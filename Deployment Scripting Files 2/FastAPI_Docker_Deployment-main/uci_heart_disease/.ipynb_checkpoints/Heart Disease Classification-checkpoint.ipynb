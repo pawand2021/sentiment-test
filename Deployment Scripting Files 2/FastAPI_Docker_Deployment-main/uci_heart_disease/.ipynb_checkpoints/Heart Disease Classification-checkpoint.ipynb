{
 "cells": [
  {
   "cell_type": "markdown",
   "metadata": {},
   "source": [
    "# Demo Supervised Learning\n",
    "\n",
    "## Heart Disease Classification\n",
    "\n",
    "In this notebook, we will try to solve the problem of classifying whether a patient will have heart disease or not using the Heart Disease Dataset and compare the specified 5 machine learning algorithms and try to justify the behaviour of each."
   ]
  },
  {
   "cell_type": "markdown",
   "metadata": {},
   "source": [
    "### About the Data"
   ]
  },
  {
   "cell_type": "markdown",
   "metadata": {},
   "source": [
    "UCI - Heart Disease Dataset - https://archive.ics.uci.edu/ml/datasets/Heart+Disease\n",
    "\n",
    "The Heart Disease Dataset is used to solve the problem of classifying whether a patient will have heart disease or not, which is a Binary Classification problem. The data used for this assignment is obtained from Kaggle. This dataset is a processed version of the actual Cleveland database data obtained from UCI Datasets. This problem and the dataset are interesting because the dataset has multiple feature attributes (13 feature attributes) and each of these features are of different types (combination of continuous and categorical values) and the scale of the continuous values are completely different and it will be interesting to see how the Machine Learning algorithms perform on this. Also, the number of records is limited (around 303 records) and there are some outliers observed within the data. So, it will be really interesting to see how our Machine Learning Algorithms can be used to generalize on such a limited dataset with noise. And finally predicting heart disease can have real life use case and application, so that’s why I felt this would be a good problem to investigate."
   ]
  },
  {
   "cell_type": "markdown",
   "metadata": {},
   "source": [
    "### Import Modules"
   ]
  },
  {
   "cell_type": "code",
   "execution_count": 3,
   "metadata": {},
   "outputs": [
    {
     "ename": "ModuleNotFoundError",
     "evalue": "No module named 'matplotlib'",
     "output_type": "error",
     "traceback": [
      "\u001b[0;31m---------------------------------------------------------------------------\u001b[0m",
      "\u001b[0;31mModuleNotFoundError\u001b[0m                       Traceback (most recent call last)",
      "Input \u001b[0;32mIn [3]\u001b[0m, in \u001b[0;36m<cell line: 3>\u001b[0;34m()\u001b[0m\n\u001b[1;32m      1\u001b[0m \u001b[38;5;66;03m#import pandas as pd\u001b[39;00m\n\u001b[1;32m      2\u001b[0m \u001b[38;5;28;01mimport\u001b[39;00m \u001b[38;5;21;01mnumpy\u001b[39;00m \u001b[38;5;28;01mas\u001b[39;00m \u001b[38;5;21;01mnp\u001b[39;00m\n\u001b[0;32m----> 3\u001b[0m \u001b[38;5;28;01mimport\u001b[39;00m \u001b[38;5;21;01mmatplotlib\u001b[39;00m\u001b[38;5;21;01m.\u001b[39;00m\u001b[38;5;21;01mpyplot\u001b[39;00m \u001b[38;5;28;01mas\u001b[39;00m \u001b[38;5;21;01mplt\u001b[39;00m \n\u001b[1;32m      4\u001b[0m \u001b[38;5;28;01mimport\u001b[39;00m \u001b[38;5;21;01mseaborn\u001b[39;00m \u001b[38;5;28;01mas\u001b[39;00m \u001b[38;5;21;01msns\u001b[39;00m\n\u001b[1;32m      5\u001b[0m sns\u001b[38;5;241m.\u001b[39mset(style\u001b[38;5;241m=\u001b[39m\u001b[38;5;124m\"\u001b[39m\u001b[38;5;124mwhitegrid\u001b[39m\u001b[38;5;124m\"\u001b[39m)\n",
      "\u001b[0;31mModuleNotFoundError\u001b[0m: No module named 'matplotlib'"
     ]
    }
   ],
   "source": [
    "#import pandas as pd\n",
    "import numpy as np\n",
    "import matplotlib.pyplot as plt \n",
    "import seaborn as sns\n",
    "sns.set(style=\"whitegrid\")"
   ]
  },
  {
   "cell_type": "markdown",
   "metadata": {},
   "source": [
    "## Section 1 - Loading the data and exploratory data analysis"
   ]
  },
  {
   "cell_type": "markdown",
   "metadata": {},
   "source": [
    "### Load the data"
   ]
  },
  {
   "cell_type": "code",
   "execution_count": null,
   "metadata": {},
   "outputs": [],
   "source": [
    "data = pd.read_csv(\"Data/heart.csv\")\n",
    "data.head()"
   ]
  },
  {
   "cell_type": "code",
   "execution_count": null,
   "metadata": {},
   "outputs": [],
   "source": [
    "data.shape"
   ]
  },
  {
   "cell_type": "code",
   "execution_count": null,
   "metadata": {},
   "outputs": [],
   "source": [
    "data.hist(layout = (3,5), figsize=(16,10), color = 'g')\n",
    "print('Data Distribution')"
   ]
  },
  {
   "cell_type": "code",
   "execution_count": null,
   "metadata": {},
   "outputs": [],
   "source": [
    "print('This looks like a fairly balanced dataset, as distribution of majority and minority class is around 55:45')\n",
    "sns.countplot(x=\"target\", data=data, palette=\"mako_r\")\n",
    "plt.show()"
   ]
  },
  {
   "cell_type": "code",
   "execution_count": null,
   "metadata": {},
   "outputs": [],
   "source": [
    "sns.countplot(x='sex', data=data, palette=\"bwr\")\n",
    "plt.xlabel(\"Sex (0 = female, 1= male)\")\n",
    "plt.show()"
   ]
  },
  {
   "cell_type": "code",
   "execution_count": null,
   "metadata": {},
   "outputs": [],
   "source": [
    "print('Analysing distribution of target and sex (0-female 1-male)')\n",
    "sns.countplot(x = data['sex'], hue = data['target'], palette='bwr') \n",
    "plt.xlabel(\"Sex (0 = female, 1= male)\")\n",
    "plt.show()"
   ]
  },
  {
   "cell_type": "code",
   "execution_count": null,
   "metadata": {},
   "outputs": [],
   "source": [
    "pd.crosstab(data.age,data.target).plot(kind=\"bar\",figsize=(20,6), color = ['g','r'])\n",
    "plt.title('Heart Disease Distribution by Patient Age')\n",
    "plt.xlabel('Age')\n",
    "plt.ylabel('Counts')\n",
    "plt.show()"
   ]
  },
  {
   "cell_type": "code",
   "execution_count": null,
   "metadata": {},
   "outputs": [],
   "source": [
    "plt.bar(data.age[data.target==1], data.max_hr[(data.target==1)], color=\"red\")\n",
    "plt.bar(data.age[data.target==0], data.max_hr[(data.target==0)], color=\"grey\")\n",
    "plt.legend([\"Diseased\", \"Not Diseased\"])\n",
    "plt.xlabel(\"Age\")\n",
    "plt.ylabel(\"Maximum Heart Rate\")\n",
    "plt.show()"
   ]
  },
  {
   "cell_type": "markdown",
   "metadata": {},
   "source": [
    "## Section 2 - Data Pre-processing"
   ]
  },
  {
   "cell_type": "markdown",
   "metadata": {},
   "source": [
    "In order to have a clean data for final analysis we need to pre-process the data and inspect for duplicate data, correlation, missing values, outliers, one-hot encoding for categorical values etc."
   ]
  },
  {
   "cell_type": "markdown",
   "metadata": {},
   "source": [
    "### Null or missing value check"
   ]
  },
  {
   "cell_type": "code",
   "execution_count": null,
   "metadata": {},
   "outputs": [],
   "source": [
    "data.isnull().sum()"
   ]
  },
  {
   "cell_type": "markdown",
   "metadata": {},
   "source": [
    "We do not see any missing values for this dataset."
   ]
  },
  {
   "cell_type": "markdown",
   "metadata": {},
   "source": [
    "### Duplicate inspection"
   ]
  },
  {
   "cell_type": "code",
   "execution_count": null,
   "metadata": {},
   "outputs": [],
   "source": [
    "data.duplicated().any()"
   ]
  },
  {
   "cell_type": "markdown",
   "metadata": {},
   "source": [
    "Looks like the dataset has some duplicates. Let's remove the duplicates"
   ]
  },
  {
   "cell_type": "code",
   "execution_count": null,
   "metadata": {},
   "outputs": [],
   "source": [
    "data.drop_duplicates(subset=None, inplace=True)\n",
    "data.duplicated().any()"
   ]
  },
  {
   "cell_type": "code",
   "execution_count": null,
   "metadata": {},
   "outputs": [],
   "source": [
    "data.shape"
   ]
  },
  {
   "cell_type": "markdown",
   "metadata": {},
   "source": [
    "So, we can see that there was one duplicate row"
   ]
  },
  {
   "cell_type": "markdown",
   "metadata": {},
   "source": [
    "### One Hot Encoding\n",
    "\n",
    "Since we have many categorical values withn the data, we would need to do one-hot encoding to convert the categorical values to discrete real values for a better noise-free analysis"
   ]
  },
  {
   "cell_type": "code",
   "execution_count": null,
   "metadata": {},
   "outputs": [],
   "source": [
    "def encode_features(df, features):\n",
    "    '''\n",
    "    Method for one-hot encoding all selected categorical fields\n",
    "    '''\n",
    "    for f in features:\n",
    "        if(f in df.columns):\n",
    "            encoded = pd.get_dummies(df[f])\n",
    "            encoded = encoded.add_prefix(f + '_')\n",
    "            df = pd.concat([df, encoded], axis=1)\n",
    "        else:\n",
    "            print('Feature not found')\n",
    "            return df\n",
    "        \n",
    "    df.drop(columns=features, inplace = True)\n",
    "    \n",
    "    return df"
   ]
  },
  {
   "cell_type": "code",
   "execution_count": null,
   "metadata": {},
   "outputs": [],
   "source": [
    "features_to_encode = ['thal', 'slope', 'chest_pain_type', 'restecg']\n",
    "encoded = encode_features(data, features_to_encode)\n",
    "data = encoded.copy()\n",
    "print(data.shape)"
   ]
  },
  {
   "cell_type": "code",
   "execution_count": null,
   "metadata": {},
   "outputs": [],
   "source": [
    "data.columns"
   ]
  },
  {
   "cell_type": "markdown",
   "metadata": {},
   "source": [
    "After one hot encoding we see that 14 new columns are added and the 4 categorical columns are dropped"
   ]
  },
  {
   "cell_type": "markdown",
   "metadata": {},
   "source": [
    "### Outlier Inspection"
   ]
  },
  {
   "cell_type": "code",
   "execution_count": null,
   "metadata": {},
   "outputs": [],
   "source": [
    "data.describe()"
   ]
  },
  {
   "cell_type": "markdown",
   "metadata": {},
   "source": [
    "From manual inspection, we do see that for cholestoral and oldpeak we may have some outliers"
   ]
  },
  {
   "cell_type": "markdown",
   "metadata": {},
   "source": [
    "### Data Correlation"
   ]
  },
  {
   "cell_type": "code",
   "execution_count": null,
   "metadata": {},
   "outputs": [],
   "source": [
    "print(data.corr()['target'])\n",
    "sns.heatmap(data.corr())\n",
    "plt.show()"
   ]
  },
  {
   "cell_type": "markdown",
   "metadata": {},
   "source": [
    "It is observed that the features does not have a strong correlation (>0.6) with the target. Otherwise correlated or inversely correlated values had to be removed to remove any additional training bias"
   ]
  },
  {
   "cell_type": "markdown",
   "metadata": {},
   "source": [
    "## Section -3 : Feature Engineering"
   ]
  },
  {
   "cell_type": "markdown",
   "metadata": {},
   "source": [
    "In this step we will remove outliers on non categorical fields using Nelson's 1st rule and normalize the data for a better model generalization and efficiency."
   ]
  },
  {
   "cell_type": "code",
   "execution_count": null,
   "metadata": {},
   "outputs": [],
   "source": [
    "feature_engg_data = data.copy()\n",
    "outlier_data = data.copy()\n",
    "target_index = data.columns.get_loc(\"target\") # Use this for separating the target labels from data\n",
    "factor = 3\n",
    "# Include this only for columns with suspected outliers\n",
    "# Using a factor of 3, following Nelson's rule 1 to remove outliers - https://en.wikipedia.org/wiki/Nelson_rules\n",
    "# Only for non-categorical fields\n",
    "columns_to_include = ['age', 'resting_bp', 'cholestoral', 'max_hr', 'oldpeak', 'num_major_vessels']\n",
    "for column in columns_to_include:\n",
    "    upper_lim = feature_engg_data[column].mean () + feature_engg_data[column].std () * factor\n",
    "    lower_lim = feature_engg_data[column].mean () - feature_engg_data[column].std () * factor\n",
    "    feature_engg_data = feature_engg_data[(feature_engg_data[column] < upper_lim) & (feature_engg_data[column] > lower_lim)]\n",
    "    \n",
    "outlier_data = pd.concat([outlier_data, feature_engg_data]).drop_duplicates(keep=False)"
   ]
  },
  {
   "cell_type": "code",
   "execution_count": null,
   "metadata": {},
   "outputs": [],
   "source": [
    "print(feature_engg_data.shape)\n",
    "print(outlier_data.shape)"
   ]
  },
  {
   "cell_type": "markdown",
   "metadata": {},
   "source": [
    "In the following section in-order to build the model, we will need to normalize the data and split the data into train, validation and test dataset. The outlier data that we have, we will keep it separate, just in case to see how does our model performs on the outlier dataset."
   ]
  },
  {
   "cell_type": "markdown",
   "metadata": {},
   "source": [
    "#### Data Normalization"
   ]
  },
  {
   "cell_type": "code",
   "execution_count": null,
   "metadata": {},
   "outputs": [],
   "source": [
    "from sklearn import preprocessing\n",
    "\n",
    "def normalize_data(df):\n",
    "    val = df.values \n",
    "    min_max_normalizer = preprocessing.MinMaxScaler()\n",
    "    norm_val = min_max_normalizer.fit_transform(val)\n",
    "    df2 = pd.DataFrame(norm_val)\n",
    "    \n",
    "    return df2\n",
    "\n",
    "norm_feature_engg_data = normalize_data(feature_engg_data)\n",
    "norm_outlier_data = normalize_data(outlier_data)"
   ]
  },
  {
   "cell_type": "code",
   "execution_count": null,
   "metadata": {},
   "outputs": [],
   "source": [
    "norm_feature_engg_data = normalize_data(feature_engg_data)\n",
    "norm_outlier_data = normalize_data(outlier_data)"
   ]
  },
  {
   "cell_type": "markdown",
   "metadata": {},
   "source": [
    "#### Data Splits\n",
    "\n",
    "Splitting Feature Engineered Data into train-valid-test dataset in 70:20:10 Ratio, the choice of selecting this splitting ratio is to ensure we have sufficient training data, sufficient validation data for mainly hyper parameter tuning and sufficient testing data to ensure model generalization."
   ]
  },
  {
   "cell_type": "code",
   "execution_count": null,
   "metadata": {},
   "outputs": [],
   "source": [
    "from sklearn.model_selection import train_test_split\n",
    "\n",
    "input_data = norm_feature_engg_data.drop([target_index],axis='columns')\n",
    "targets =norm_feature_engg_data.filter([target_index],axis='columns')\n",
    "\n",
    "x, x_test, y, y_test = train_test_split(input_data,targets,test_size=0.1,train_size=0.9, random_state=5)\n",
    "x_train, x_valid, y_train, y_valid = train_test_split(x,y,test_size = 0.22,train_size =0.78, random_state=5)"
   ]
  },
  {
   "cell_type": "markdown",
   "metadata": {},
   "source": [
    "## Section 4 -  Building the Model"
   ]
  },
  {
   "cell_type": "markdown",
   "metadata": {},
   "source": [
    "#### Model Evaluation Metrics\n",
    "\n",
    "For model evaluation we will use AUC-ROC Scores, Accuracy and Confusion matrix to see how well the model is generalized and efficient on mainly validation and test sets. But these metric will be initially used on the test set to see how well the model fits on the training data and is there any significant bias on the training set."
   ]
  },
  {
   "cell_type": "code",
   "execution_count": null,
   "metadata": {},
   "outputs": [],
   "source": [
    "from sklearn.metrics import accuracy_score,roc_auc_score,confusion_matrix\n",
    "import math\n",
    "import seaborn as sns\n",
    "\n",
    "def evaluatation_metrics(y_true, y_pred,model):\n",
    "    \n",
    "    accuracy = accuracy_score(y_true, y_pred)\n",
    "    roc_auc = roc_auc_score(y_true, y_pred, average='weighted')\n",
    "    cm = confusion_matrix(y_true, y_pred)\n",
    "\n",
    "    print(\"Accuracy of\",model,\": {:.2f}\".format(accuracy))\n",
    "    print(\"ROC AUC Score of\", model,\": {:.2f}\".format(roc_auc))\n",
    "    print(\"Confusion Matrix of\", model,\": \\n\")\n",
    "    \n",
    "    plt.figure(figsize=(5,5))\n",
    "    sns.heatmap(cm, annot=True, fmt=\".3f\", linewidths=.5, square = True, cmap = 'Blues');\n",
    "    plt.ylabel('Actual label');\n",
    "    plt.xlabel('Predicted label');\n",
    "    title = 'AUC-ROC Score: {:.2f}'.format(roc_auc)\n",
    "    plt.title(title)\n",
    "    plt.show()"
   ]
  },
  {
   "cell_type": "code",
   "execution_count": null,
   "metadata": {},
   "outputs": [],
   "source": [
    "import time\n",
    "\n",
    "def ml_model(classifier, classifier_name, **kwargs):\n",
    "    '''\n",
    "    Generic method to train the selected classification algorithm on train, validation and test dataset.\n",
    "    '''\n",
    "    # Fit model\n",
    "    if kwargs['x_train'] is not None:\n",
    "        model = classifier.fit(kwargs['x_train'], kwargs['y_train'])\n",
    "        y_pred_train= model.predict(kwargs['x_train'])\n",
    "        print('*****************************************************')\n",
    "        print('Training Set Performance:')\n",
    "        print('*****************************************************')\n",
    "        evaluatation_metrics(kwargs['y_train'], y_pred_train, classifier_name)\n",
    "    \n",
    "    if kwargs['x_valid'] is not None:\n",
    "        y_pred_valid = model.predict(kwargs['x_valid'])\n",
    "        print('*****************************************************')\n",
    "        print('Validation Set Performance:')\n",
    "        print('*****************************************************')\n",
    "        evaluatation_metrics(kwargs['y_valid'], y_pred_valid, classifier_name)\n",
    "    \n",
    "    if kwargs['x_test'] is not None:\n",
    "        start = time.time()\n",
    "        y_pred_test= classifier.predict(kwargs['x_test'])\n",
    "        end = time.time()\n",
    "        print('*****************************************************')\n",
    "        print('Test Set Performance:')\n",
    "        print('*****************************************************')\n",
    "        print('Model Time Complexity on Test Data: {:.3f} milli seconds'.format((end - start) * 1000))\n",
    "        evaluatation_metrics(kwargs['y_test'], y_pred_test, classifier_name)"
   ]
  },
  {
   "cell_type": "code",
   "execution_count": null,
   "metadata": {},
   "outputs": [],
   "source": [
    "from sklearn.model_selection import learning_curve\n",
    "from sklearn.model_selection import ShuffleSplit\n",
    "\n",
    "\n",
    "def plot_learning_curves(train_sizes, train_scores_mean, train_scores_std, test_scores_mean, test_scores_std, model_name):\n",
    "    '''\n",
    "    Method to generate learning curves for using training and cross validation scores\n",
    "    '''\n",
    "    plt.title(model_name)\n",
    "\n",
    "    plt.xlabel(\"Training examples\")\n",
    "    plt.ylabel(\"Score\")\n",
    "    \n",
    "    plt.fill_between(train_sizes, train_scores_mean - train_scores_std,\n",
    "                         train_scores_mean + train_scores_std, alpha=0.1,\n",
    "                         color=\"r\")\n",
    "    plt.fill_between(train_sizes, test_scores_mean - test_scores_std,\n",
    "                         test_scores_mean + test_scores_std, alpha=0.1,\n",
    "                         color=\"g\")\n",
    "    plt.plot(train_sizes, train_scores_mean, 'o-', color=\"r\",label=\"Training score\")\n",
    "    plt.plot(train_sizes, test_scores_mean, 'o-', color=\"g\",label=\"Cross-validation score\")\n",
    "    plt.legend(loc=\"best\")\n",
    "    plt.show()\n",
    "\n",
    "def plot_model_scalability_curves(train_sizes, training_time_mean, training_time_std, model_name):\n",
    "    '''\n",
    "    Method to generate scalability curve to see the model complexity\n",
    "    '''\n",
    "    plt.plot(train_sizes, training_time_mean, 'o-', color = 'purple')\n",
    "    plt.fill_between(train_sizes, training_time_mean - training_time_std,\n",
    "                         training_time_mean + training_time_std, alpha=0.1, color = 'purple')\n",
    "    plt.xlabel(\"Training examples\")\n",
    "    plt.ylabel(\"Training time\")\n",
    "    plt.title(\"Scalability of \"+ model_name)\n",
    "    plt.show()\n",
    "\n",
    "def plot_model_performance_curves(training_time_mean, test_scores_mean, test_scores_std, model_name):\n",
    "    '''\n",
    "    Method to generate performance curves to see if increase model complexity would improve score or not\n",
    "    '''\n",
    "    plt.plot(training_time_mean, test_scores_mean, 'o-')\n",
    "    plt.fill_between(training_time_mean, test_scores_mean - test_scores_std,\n",
    "                         test_scores_mean + test_scores_std, alpha=0.1)\n",
    "    plt.xlabel(\"Training Time\")\n",
    "    plt.ylabel(\"Score\")\n",
    "    plt.title(\"Performance of \"+ model_name)\n",
    "    plt.show()\n",
    "\n",
    "\n",
    "def generate_learning_curves(model, model_name, X, y, xlim = None, ylim=None, \n",
    "                         epochs =None, figsize = (20,5)):\n",
    "    '''\n",
    "    Generic method to generate Learning Curves, Scalability curves and Performance curves\n",
    "    Referred - https://scikit-learn.org/stable/auto_examples/model_selection/plot_learning_curve.html#sphx-glr-auto-examples-model-selection-plot-learning-curve-py \n",
    "    '''\n",
    "    cross_valid = ShuffleSplit(n_splits=100, test_size=0.2, random_state=0)\n",
    "    \n",
    "    train_sizes=np.linspace(.1, 1.0, 5)\n",
    "    train_sizes, train_scores, test_scores, training_time, _ = learning_curve(model, X, y, cv=cross_valid, \n",
    "                                                                           n_jobs=epochs, train_sizes=train_sizes,\n",
    "                                                                           return_times=True)\n",
    "    \n",
    "    train_scores_mean = np.mean(train_scores, axis=1)\n",
    "    train_scores_std = np.std(train_scores, axis=1)\n",
    "    \n",
    "    test_scores_mean = np.mean(test_scores, axis=1)\n",
    "    test_scores_std = np.std(test_scores, axis=1)\n",
    "    \n",
    "    training_time_mean = np.mean(training_time, axis=1)\n",
    "    training_time_std = np.std(training_time, axis=1)\n",
    "\n",
    "    # Plot learning curve\n",
    "    plot_learning_curves(train_sizes, train_scores_mean, train_scores_std, test_scores_mean, test_scores_std, model_name)\n",
    "\n",
    "    # Plot scalability curve\n",
    "    plot_model_scalability_curves(train_sizes, training_time_mean, training_time_std, model_name)\n",
    "\n",
    "    # Plot model performance score\n",
    "    plot_model_performance_curves(training_time_mean, test_scores_mean, test_scores_std, model_name)"
   ]
  },
  {
   "cell_type": "markdown",
   "metadata": {},
   "source": [
    "### Classification Algorithms"
   ]
  },
  {
   "cell_type": "markdown",
   "metadata": {},
   "source": [
    "#### Baseline -  Decision Tree"
   ]
  },
  {
   "cell_type": "code",
   "execution_count": null,
   "metadata": {},
   "outputs": [],
   "source": [
    "from sklearn.tree import DecisionTreeClassifier, plot_tree\n",
    "\n",
    "DTC = DecisionTreeClassifier(criterion='entropy', random_state=3) # Baseline model without any form of pruning\n",
    "ml_model(DTC, 'Decision Tree', x_train = x_train, y_train = y_train, x_valid = x_valid, y_valid = y_valid, x_test = None)"
   ]
  },
  {
   "cell_type": "markdown",
   "metadata": {},
   "source": [
    "We see how poorly the baseline decision tree model performs on the validation set. This is due to very high over-fitting on training data. The overfitting is happening for both Gini Index and Entropy.\n",
    "Gini index operates on the categorical target variables in terms of “true” and “false” and performs only binary split, in opposite to that Information Gain computes the difference between entropy before and after the split and indicates the impurity in classes of elements."
   ]
  },
  {
   "cell_type": "code",
   "execution_count": null,
   "metadata": {},
   "outputs": [],
   "source": [
    "# Visualizing Decision Trees\n",
    "fig, axes = plt.subplots(figsize = (12,10), dpi=500)\n",
    "plot_tree(DTC,filled = True)\n",
    "plt.show()"
   ]
  },
  {
   "cell_type": "code",
   "execution_count": null,
   "metadata": {},
   "outputs": [],
   "source": [
    "# Generation model curves on training and cross validation data\n",
    "generate_learning_curves(\n",
    "    model = DTC, \n",
    "    model_name = \"Decision Trees\", \n",
    "    X = input_data,\n",
    "    y = targets,\n",
    "    ylim=(0.7, 1.01),\n",
    "    epochs=5)"
   ]
  },
  {
   "cell_type": "markdown",
   "metadata": {},
   "source": [
    "These curves are showing presence of high overfiting on basseline model, but the model time may be almost constan, hence almost constant time complexity, but the performance curve shows no significant improvment with more training time and training samples."
   ]
  },
  {
   "cell_type": "markdown",
   "metadata": {},
   "source": [
    "#### Hyper-parameter tuning"
   ]
  },
  {
   "cell_type": "markdown",
   "metadata": {},
   "source": [
    "In this step, we will do post pruning to find the best parameter values for maximum depth of the tree and minimum leaf samples for the decision tree, so as to prevent it from over-fitting and generalizing the model. First we will use Grid Search to short list initial hyper parameter values."
   ]
  },
  {
   "cell_type": "code",
   "execution_count": null,
   "metadata": {},
   "outputs": [],
   "source": [
    "from sklearn.model_selection import GridSearchCV"
   ]
  },
  {
   "cell_type": "code",
   "execution_count": null,
   "metadata": {},
   "outputs": [],
   "source": [
    "# We will apply grid search to find the best possible set of hyper parameters\n",
    "def DTGridSearch(X,y,param_lim):\n",
    "    '''\n",
    "    Decision Tree Grid Search to find the initial best guess of hyper-parameters\n",
    "    '''\n",
    "    param_grid = {\n",
    "                    'min_samples_leaf':np.linspace(param_lim[0],param_lim[1],20).astype('int'), \n",
    "                    'max_depth':np.arange(1,param_lim[2]),\n",
    "                    'criterion' : ['entropy' , 'gini']\n",
    "    }\n",
    "\n",
    "    best_DT = GridSearchCV(estimator = DecisionTreeClassifier(random_state=3), param_grid=param_grid, cv=10)\n",
    "    best_DT.fit(X, y)\n",
    "    \n",
    "    print(\"Best Decision Tree Hyper-Parameters are:\")\n",
    "    print(best_DT.best_params_)\n",
    "    \n",
    "    return best_DT.best_params_['min_samples_leaf'], best_DT.best_params_['max_depth'], best_DT.best_params_['criterion']"
   ]
  },
  {
   "cell_type": "code",
   "execution_count": null,
   "metadata": {},
   "outputs": [],
   "source": [
    "min_samples_leaf_lim = int(0.005 * len(x_train)) # 0.5% of length of training size\n",
    "max_samples_leaf_lim = int(0.1 * len(x_train)) # 10% of length of training size\n",
    "max_depth = 10\n",
    "\n",
    "best_min_sample_leaf, best_max_depth, best_criterion = DTGridSearch( x_train,\n",
    "                                                                     y_train,\n",
    "                                                                     (min_samples_leaf_lim, max_samples_leaf_lim, max_depth)\n",
    "                                                                   )"
   ]
  },
  {
   "cell_type": "markdown",
   "metadata": {},
   "source": [
    "Now, although grid search is done on training set, in-order to check the generalization, we would iterate with various depth of the tree on both training and validation dataset, and pickup the best depth (one with lowest error rate) and consider that as the final version of the best parameters."
   ]
  },
  {
   "cell_type": "code",
   "execution_count": null,
   "metadata": {},
   "outputs": [],
   "source": [
    "train=[]\n",
    "valid=[]\n",
    "for i in range(1,20):\n",
    "    dec = DecisionTreeClassifier(criterion = 'gini', min_samples_leaf = 12, random_state=3, max_depth=i)\n",
    "    dec.fit(x_train, y_train)\n",
    "    train.append(1- accuracy_score(dec.predict(x_train), y_train))\n",
    "    valid.append(1- accuracy_score(dec.predict(x_valid), y_valid))\n",
    "\n",
    "plt.title('Loss vs max_depth curves')\n",
    "depth=[i for i in range(1,20)]\n",
    "plt.plot(depth,train,'o-', color = 'r', label = 'training error')\n",
    "plt.plot(depth,valid, '--', color = 'b', label = 'validation error')\n",
    "plt.xlabel('max depth')\n",
    "plt.ylabel('Loss')\n",
    "plt.legend()"
   ]
  },
  {
   "cell_type": "markdown",
   "metadata": {},
   "source": [
    "The loss curve also shows some over-fitting, but the lowest loss is obtained for a max_depth = 3. Now, let's apply these hyper-parameter values and let's see the model performance and generalization."
   ]
  },
  {
   "cell_type": "code",
   "execution_count": null,
   "metadata": {},
   "outputs": [],
   "source": [
    "tuned_DTC = DecisionTreeClassifier(criterion='gini', max_depth = 3, min_samples_leaf = 12, random_state=3)\n",
    "ml_model(tuned_DTC, 'Decision Tree', x_train = x_train, y_train = y_train, x_valid = x_valid, y_valid = y_valid, x_test = None)\n",
    "\n",
    "generate_learning_curves(\n",
    "    model = tuned_DTC, \n",
    "    model_name = \"Decision Trees\", \n",
    "    X = input_data,\n",
    "    y = targets,\n",
    "    ylim=(0.7, 1.01),\n",
    "    epochs=5)"
   ]
  },
  {
   "cell_type": "markdown",
   "metadata": {},
   "source": [
    "The tuned decision tree does show significant improvement in model performance, with an inrease in AUC-ROC score by 12% and is very well generalized as no significant over-fitting, but we can say that the model has some bias and hence it might be under-fitting. But the hyper-parameter tuning process was successful as we see performance improvment from baseline model."
   ]
  },
  {
   "cell_type": "markdown",
   "metadata": {},
   "source": [
    "#### Baseline - Neural Networks"
   ]
  },
  {
   "cell_type": "code",
   "execution_count": null,
   "metadata": {},
   "outputs": [],
   "source": [
    "from sklearn.neural_network import MLPClassifier\n",
    "\n",
    "NN = MLPClassifier(hidden_layer_sizes=50, solver='adam', activation='relu', learning_rate_init=0.05,  random_state=0)\n",
    "ml_model(NN, 'Neural Network', x_train = x_train, y_train = y_train.values.ravel(), x_valid = x_valid, y_valid = y_valid.values.ravel(), x_test = None)"
   ]
  },
  {
   "cell_type": "code",
   "execution_count": null,
   "metadata": {},
   "outputs": [],
   "source": [
    "generate_learning_curves(\n",
    "    model = NN, \n",
    "    model_name = \"Neural Network\", \n",
    "    X = input_data,\n",
    "    y = targets,\n",
    "    ylim=(0.7, 1.01),\n",
    "    epochs=10)"
   ]
  },
  {
   "cell_type": "markdown",
   "metadata": {},
   "source": [
    "These curves are showing presence of high overfiting on basseline model, but the scalability curve shows almost linear time complexity, but the performance curve shows no significant improvment with more training time and training samples."
   ]
  },
  {
   "cell_type": "markdown",
   "metadata": {},
   "source": [
    "#### Hyper-parameter tuning"
   ]
  },
  {
   "cell_type": "markdown",
   "metadata": {},
   "source": [
    "Like the Decision Trees algorithms first we will apply grid search to find the best possible set of hyper parameters and then using the loss curves we will select the final set of hyper-parameters. For the neural nets, we will tune the number of hidden layers which controls the model complexity (increasing this may make the model performance more efficient but make the model slow to process), and learning rate, tuning it determines the model convergence."
   ]
  },
  {
   "cell_type": "code",
   "execution_count": null,
   "metadata": {},
   "outputs": [],
   "source": [
    "def NNGridSearch(X, y, param_limits):\n",
    "    '''\n",
    "    Enural Network Grid Search\n",
    "    ''' \n",
    "    param_grid = {\n",
    "                  'hidden_layer_sizes': param_limits[0],\n",
    "                  'learning_rate_init': param_limits[1]\n",
    "                 }\n",
    "\n",
    "    best_nn = GridSearchCV(\n",
    "                           estimator = MLPClassifier(solver='adam',activation='relu',random_state=0),\n",
    "                           param_grid=param_grid, \n",
    "                           cv=10\n",
    "                          )\n",
    "    best_nn.fit(X, y)\n",
    "    \n",
    "    print(\"Best Decision Tree Hyper-Parameters are:\")\n",
    "    print(best_nn.best_params_)\n",
    "    \n",
    "    return best_nn.best_params_['hidden_layer_sizes'], best_nn.best_params_['learning_rate_init']"
   ]
  },
  {
   "cell_type": "code",
   "execution_count": null,
   "metadata": {},
   "outputs": [],
   "source": [
    "hidden_units = list(range(10,100,10))\n",
    "lr = [0.05, 0.1]\n",
    "\n",
    "best_hidden_unit, best_lr = NNGridSearch(x_train,  y_train.values.ravel(), (hidden_units, lr))"
   ]
  },
  {
   "cell_type": "code",
   "execution_count": null,
   "metadata": {},
   "outputs": [],
   "source": [
    "train=[]\n",
    "valid=[]\n",
    "for i in range(5,100,5):\n",
    "    nn = MLPClassifier(hidden_layer_sizes=i, solver='adam', activation='relu', learning_rate_init = best_lr, random_state=0)\n",
    "    nn.fit(x_train, y_train.values.ravel())\n",
    "    train.append(1- accuracy_score(nn.predict(x_train), y_train.values.ravel()))\n",
    "    valid.append(1- accuracy_score(nn.predict(x_valid), y_valid.values.ravel()))\n",
    "\n",
    "plt.title('Loss vs number of hidden layers curves')\n",
    "hidden_layers=[i for i in range(5,100,5)]\n",
    "plt.plot(hidden_layers, train,'o-', color = 'r', label = 'training error')\n",
    "plt.plot(hidden_layers, valid, '--', color = 'b', label = 'validation error')\n",
    "plt.xlabel('number of hidden layers')\n",
    "plt.ylabel('Loss')\n",
    "plt.legend()\n",
    "plt.show()"
   ]
  },
  {
   "cell_type": "markdown",
   "metadata": {},
   "source": [
    "From the loss curve above, we can see that the lowest validation loss is observed for number of hidden units = 55. Now let's see the tuned model performance with these selected best set of hyper-parameters. But the loss curves does show some instability or randomness of the model."
   ]
  },
  {
   "cell_type": "code",
   "execution_count": null,
   "metadata": {},
   "outputs": [],
   "source": [
    "tuned_NN = MLPClassifier(hidden_layer_sizes=55, solver='adam', activation='relu', learning_rate_init=0.05, random_state = 0)\n",
    "ml_model(tuned_NN, 'Neural Network', x_train = x_train, y_train = y_train.values.ravel(), x_valid = x_valid, y_valid = y_valid.values.ravel(), x_test = None)\n",
    "\n",
    "generate_learning_curves(\n",
    "    model = tuned_NN, \n",
    "    model_name = \"Neural Network\", \n",
    "    X = input_data,\n",
    "    y = targets,\n",
    "    ylim=(0.7, 1.01),\n",
    "    epochs=10)"
   ]
  },
  {
   "cell_type": "markdown",
   "metadata": {},
   "source": [
    "The model evaluation metrics show some good improvement over the baseline model but the model curves of the tuned and untuned model looks similar.\n",
    "MLP Neural Networks are extremely unstable and even the loss curves show the same thing. The hyper-parameter tuning process does show improvement in model scores by 9% on validation set, which no over-fitting but slight under-fitting as the model might have some bias. The tuned model is generalized but may not be reliable as we see from the model curve nature."
   ]
  },
  {
   "cell_type": "markdown",
   "metadata": {},
   "source": [
    "#### Baseline - ADABoost"
   ]
  },
  {
   "cell_type": "code",
   "execution_count": null,
   "metadata": {},
   "outputs": [],
   "source": [
    "from sklearn.ensemble import AdaBoostClassifier\n",
    "adaBoost = AdaBoostClassifier(random_state=7)\n",
    "\n",
    "ml_model(adaBoost, 'ADABoost', x_train = x_train, x_valid = x_valid, y_train =  y_train.values.ravel(), y_valid = y_valid.values.ravel(), x_test = None)\n",
    "\n",
    "generate_learning_curves(\n",
    "    model = adaBoost, \n",
    "    model_name = \"ADABoost\", \n",
    "    X = input_data,\n",
    "    y = targets,\n",
    "    epochs=4)"
   ]
  },
  {
   "cell_type": "markdown",
   "metadata": {},
   "source": [
    "#### Hyper-parameter tuning"
   ]
  },
  {
   "cell_type": "code",
   "execution_count": null,
   "metadata": {},
   "outputs": [],
   "source": [
    "def ABGridSearch(X, y, param_limits):\n",
    "    '''\n",
    "    Grid Search for ADABoost\n",
    "    ''' \n",
    "    param_grid = {\n",
    "                  'n_estimators': param_limits[0],\n",
    "                  'learning_rate': param_limits[1],\n",
    "                  'algorithm' : param_limits[2]\n",
    "                 }\n",
    "\n",
    "    best_adb = GridSearchCV(\n",
    "                           estimator = AdaBoostClassifier(random_state=7),\n",
    "                           param_grid=param_grid, \n",
    "                           cv=10\n",
    "                          )\n",
    "    best_adb.fit(X, y)\n",
    "    \n",
    "    print(\"Best Decision Tree Hyper-Parameters are:\")\n",
    "    print(best_adb.best_params_)\n",
    "    \n",
    "    return best_adb.best_params_['n_estimators'], best_adb.best_params_['learning_rate'], best_adb.best_params_['algorithm']"
   ]
  },
  {
   "cell_type": "code",
   "execution_count": null,
   "metadata": {},
   "outputs": [],
   "source": [
    "n_estimators = list(range(10,100,10))\n",
    "learning_rate = [0.05, 0.1, 0.5, 1.0]\n",
    "algorithm = ['SAMME', 'SAMME.R']\n",
    "best_n_estimators, best_lr, best_algo = ABGridSearch(x_train,  y_train.values.ravel(), (n_estimators, learning_rate, algorithm))"
   ]
  },
  {
   "cell_type": "code",
   "execution_count": null,
   "metadata": {},
   "outputs": [],
   "source": [
    "train=[]\n",
    "valid=[]\n",
    "for i in range(5,100,5):\n",
    "    adaBoost = AdaBoostClassifier(n_estimators=i, algorithm = best_algo, learning_rate = best_lr, random_state=7)\n",
    "    adaBoost.fit(x_train, y_train.values.ravel())\n",
    "    train.append(1- accuracy_score(adaBoost.predict(x_train), y_train.values.ravel()))\n",
    "    valid.append(1- accuracy_score(adaBoost.predict(x_valid), y_valid.values.ravel()))\n",
    "\n",
    "plt.title('Loss vs number of n_estimators curves')\n",
    "num_estimators=[i for i in range(5,100,5)]\n",
    "plt.plot(num_estimators, train,'o-', color = 'r', label = 'training error')\n",
    "plt.plot(num_estimators, valid, '--', color = 'b', label = 'validation error')\n",
    "plt.xlabel('n_estimators')\n",
    "plt.ylabel('Loss')\n",
    "plt.legend()\n",
    "plt.show()"
   ]
  },
  {
   "cell_type": "markdown",
   "metadata": {},
   "source": [
    "best n estimator from loss curves = 40, but more the number of estimators, the model performance would be slow"
   ]
  },
  {
   "cell_type": "code",
   "execution_count": null,
   "metadata": {},
   "outputs": [],
   "source": [
    "tuned_adaBoost = AdaBoostClassifier(n_estimators=40, algorithm = best_algo, learning_rate = best_lr, random_state=7)\n",
    "\n",
    "ml_model(tuned_adaBoost, 'ADABoost', x_train = x_train, x_valid = x_valid, y_train =  y_train.values.ravel(), y_valid = y_valid.values.ravel(), x_test = None)\n",
    "\n",
    "generate_learning_curves(\n",
    "    model = tuned_adaBoost, \n",
    "    model_name = \"ADABoost\", \n",
    "    X = input_data,\n",
    "    y = targets,\n",
    "    epochs=4)"
   ]
  },
  {
   "cell_type": "markdown",
   "metadata": {},
   "source": [
    "significant improvment in model performance after hyper parameter tuning. Almost 14% improvement, with no significant over-fitting and very minimal bias. So, this appears to be a really good fit, the model performance on the test data can be good as the model appears to be generalized."
   ]
  },
  {
   "cell_type": "markdown",
   "metadata": {},
   "source": [
    "#### Baseline - Support Vector Machines"
   ]
  },
  {
   "cell_type": "code",
   "execution_count": null,
   "metadata": {},
   "outputs": [],
   "source": [
    "from sklearn import svm\n",
    "svc = svm.SVC(kernel = \"rbf\", random_state = 3)\n",
    "\n",
    "ml_model(svc, 'SVM', x_train = x_train, x_valid = x_valid, y_train =  y_train.values.ravel(), y_valid = y_valid.values.ravel(), x_test = None)\n",
    "\n",
    "generate_learning_curves(\n",
    "    model = svc, \n",
    "    model_name = \"SVM\", \n",
    "    X = input_data,\n",
    "    y = targets,\n",
    "    epochs=4)"
   ]
  },
  {
   "cell_type": "markdown",
   "metadata": {},
   "source": [
    "#### Hyper-parameter tuning"
   ]
  },
  {
   "cell_type": "code",
   "execution_count": null,
   "metadata": {},
   "outputs": [],
   "source": [
    "def SVMGridSearch(X, y, param_limits):\n",
    "    '''\n",
    "    SVM Grid Search\n",
    "    '''    \n",
    "    param_grid = {\n",
    "                  'C': param_limits[0],\n",
    "                  'gamma': param_limits[1],\n",
    "                  'kernel': param_limits[2]\n",
    "                 }\n",
    "\n",
    "    svc = GridSearchCV(estimator = svm.SVC(random_state = 3),\n",
    "                       param_grid=param_grid, \n",
    "                       cv=10)\n",
    "    \n",
    "    svc.fit(X, y)\n",
    "    print(\"Best SVM Hyper-Parameters are:\")\n",
    "    print(svc.best_params_)\n",
    "    \n",
    "    return svc.best_params_['C'], svc.best_params_['gamma'], svc.best_params_['kernel']"
   ]
  },
  {
   "cell_type": "code",
   "execution_count": null,
   "metadata": {},
   "outputs": [],
   "source": [
    "C = [0.0001, 0.001, 0.01, 0.1, 1.0, 5.0, 10.0]\n",
    "gammas = [1,10,100]\n",
    "kernel = ['linear','poly','rbf','sigmoid']\n",
    "\n",
    "best_C, best_gamma, best_kernel = SVMGridSearch(x_train,  y_train.values.ravel(), (C, gammas, kernel))"
   ]
  },
  {
   "cell_type": "code",
   "execution_count": null,
   "metadata": {},
   "outputs": [],
   "source": [
    "train=[]\n",
    "valid=[]\n",
    "best_hyper_params = []\n",
    "for g in gammas:\n",
    "    for c in C:\n",
    "        svc = svm.SVC(kernel = \"linear\", C=c, gamma = g, random_state = 3)\n",
    "        svc.fit(x_train, y_train.values.ravel())\n",
    "        train.append(1- accuracy_score(svc.predict(x_train), y_train.values.ravel()))\n",
    "        valid.append(1- accuracy_score(svc.predict(x_valid), y_valid.values.ravel()))\n",
    "        best_hyper_params.append((c,g))\n",
    "\n",
    "plt.title('Loss curves')\n",
    "num_estimators= list(range(len(train)))\n",
    "plt.plot(num_estimators, train,'o-', color = 'r', label = 'training error')\n",
    "plt.plot(num_estimators, valid, '--', color = 'b', label = 'validation error')\n",
    "plt.xlabel('parameter choice')\n",
    "plt.ylabel('Loss')\n",
    "plt.legend()\n",
    "plt.show()"
   ]
  },
  {
   "cell_type": "code",
   "execution_count": null,
   "metadata": {},
   "outputs": [],
   "source": [
    "tuned_svc = svm.SVC(kernel = \"linear\", C=1, gamma = 1, random_state = 3)\n",
    "\n",
    "ml_model(tuned_svc, 'SVM', x_train = x_train, x_valid = x_valid, y_train =  y_train.values.ravel(), y_valid = y_valid.values.ravel(), x_test = None)\n",
    "\n",
    "generate_learning_curves(\n",
    "    model = tuned_svc, \n",
    "    model_name = \"SVM\", \n",
    "    X = input_data,\n",
    "    y = targets,\n",
    "    epochs=4)"
   ]
  },
  {
   "cell_type": "markdown",
   "metadata": {},
   "source": [
    "From the model curves, we see that the model is quite generalized with no significant overfitting but with slight bias.So we may say that the model is slightly under-fitted. The model time complexity looks almost linear but the performance curves do not show any model improvement with more training time. But overall the hyper-paramater tuning process seems to significantly improve the baseline model."
   ]
  },
  {
   "cell_type": "markdown",
   "metadata": {},
   "source": [
    "#### Baseline - KNN"
   ]
  },
  {
   "cell_type": "code",
   "execution_count": null,
   "metadata": {},
   "outputs": [],
   "source": [
    "from sklearn.neighbors import KNeighborsClassifier\n",
    "knn = KNeighborsClassifier(n_neighbors=7)\n",
    "\n",
    "ml_model(knn, 'KNN', x_train = x_train, x_valid = x_valid, y_train =  y_train.values.ravel(), y_valid = y_valid.values.ravel(), x_test = None)\n",
    "\n",
    "generate_learning_curves(\n",
    "    model = knn, \n",
    "    model_name = \"KNN\", \n",
    "    X = input_data,\n",
    "    y = targets,\n",
    "    epochs=4)"
   ]
  },
  {
   "cell_type": "markdown",
   "metadata": {},
   "source": [
    "Slight overfitting, but the model might have some high bias."
   ]
  },
  {
   "cell_type": "markdown",
   "metadata": {},
   "source": [
    "#### Hyper-parameter tuning"
   ]
  },
  {
   "cell_type": "code",
   "execution_count": null,
   "metadata": {},
   "outputs": [],
   "source": [
    "def KNNGridSearch(X, y, param_limits):\n",
    "    '''\n",
    "    KNN - Grid Search Method\n",
    "    '''    \n",
    "    param_grid = {\n",
    "                  'n_neighbors': param_limits[0],\n",
    "                  'algorithm': param_limits[1],\n",
    "                  'leaf_size' : param_limits[2]\n",
    "                 }\n",
    "\n",
    "    knn = GridSearchCV(estimator = KNeighborsClassifier(),\n",
    "                       param_grid=param_grid, \n",
    "                       cv=10)\n",
    "    \n",
    "    knn.fit(X, y)\n",
    "    print(\"Best SVM Hyper-Parameters are:\")\n",
    "    print(knn.best_params_)\n",
    "    \n",
    "    return knn.best_params_['n_neighbors'], knn.best_params_['algorithm'], knn.best_params_['leaf_size']"
   ]
  },
  {
   "cell_type": "code",
   "execution_count": null,
   "metadata": {},
   "outputs": [],
   "source": [
    "n_neighbors = list(range(1,20))\n",
    "algorithm = ['auto', 'ball_tree', 'kd_tree', 'brute']\n",
    "leaf_size = list(range(5,50,5))\n",
    "\n",
    "best_n_neighbors, best_algorithm, best_leaf_size = KNNGridSearch(x_train,  y_train.values.ravel(), (n_neighbors, algorithm, leaf_size))"
   ]
  },
  {
   "cell_type": "code",
   "execution_count": null,
   "metadata": {},
   "outputs": [],
   "source": [
    "train=[]\n",
    "valid=[]\n",
    "for i in range(1,20):\n",
    "    knn = KNeighborsClassifier(n_neighbors=i, leaf_size = best_leaf_size, algorithm = best_algorithm)\n",
    "    knn.fit(x_train, y_train.values.ravel())\n",
    "    train.append(1- accuracy_score(knn.predict(x_train), y_train.values.ravel()))\n",
    "    valid.append(1- accuracy_score(knn.predict(x_valid), y_valid.values.ravel()))\n",
    "\n",
    "plt.title('Loss vs number of neighbours curves')\n",
    "num_estimators=[i for i in range(1,20)]\n",
    "plt.plot(num_estimators, train,'o-', color = 'r', label = 'training error')\n",
    "plt.plot(num_estimators, valid, '--', color = 'b', label = 'validation error')\n",
    "plt.xlabel('neighbours')\n",
    "plt.ylabel('Loss')\n",
    "plt.legend()\n",
    "plt.show()"
   ]
  },
  {
   "cell_type": "markdown",
   "metadata": {},
   "source": [
    "choosing 9 neighbours from the loss curve as validation loss is lowest at n = 9"
   ]
  },
  {
   "cell_type": "code",
   "execution_count": null,
   "metadata": {},
   "outputs": [],
   "source": [
    "tuned_knn = KNeighborsClassifier(n_neighbors=9, leaf_size = best_leaf_size, algorithm = best_algorithm)\n",
    "\n",
    "ml_model(tuned_knn, 'KNN', x_train = x_train, x_valid = x_valid, y_train =  y_train.values.ravel(), y_valid = y_valid.values.ravel(), x_test = None)\n",
    "\n",
    "generate_learning_curves(\n",
    "    model = tuned_knn, \n",
    "    model_name = \"KNN\", \n",
    "    X = input_data,\n",
    "    y = targets,\n",
    "    epochs=4)"
   ]
  },
  {
   "cell_type": "markdown",
   "metadata": {},
   "source": [
    "No significant over-fitting, but the model seems to have under-fitting and high bias. But the model may be generalized after the hyper-parameter tuning process."
   ]
  },
  {
   "cell_type": "markdown",
   "metadata": {},
   "source": [
    "## Section 5 : Model Performance on Test Data"
   ]
  },
  {
   "cell_type": "code",
   "execution_count": null,
   "metadata": {},
   "outputs": [],
   "source": [
    "from joblib import dump\n",
    "\n",
    "print('For the tuned Decision Tree model :\\n')\n",
    "ml_model(tuned_DTC, 'tuned Decision Tree', x_train = None, x_valid = None, x_test = x_test, y_test = y_test.values.ravel() )\n",
    "\n",
    "print('For the tuned MLP Neural Network model :\\n')\n",
    "ml_model(tuned_NN, 'tuned Neural Network', x_train = None, x_valid = None, x_test = x_test, y_test = y_test.values.ravel() )\n",
    "\n",
    "print('For the tuned ADA Boost model :\\n')\n",
    "ml_model(tuned_adaBoost, 'tuned ADA Boost', x_train = None, x_valid = None, x_test = x_test, y_test = y_test.values.ravel() )\n",
    "dump(tuned_adaBoost, \"aditya_model1_adaboost.joblib\")\n",
    "\n",
    "print('For the tuned SVM model :\\n')\n",
    "ml_model(tuned_svc, 'tuned SVM', x_train = None, x_valid = None, x_test = x_test, y_test = y_test.values.ravel() )\n",
    "dump(tuned_svc, \"aditya_model2_svm.joblib\")\n",
    "\n",
    "print('For the tuned KNN model :\\n')\n",
    "ml_model(tuned_knn, 'tuned KNN', x_train = None, x_valid = None, x_test = x_test, y_test = y_test.values.ravel() )\n"
   ]
  },
  {
   "cell_type": "markdown",
   "metadata": {},
   "source": [
    "### Conclusion"
   ]
  },
  {
   "cell_type": "markdown",
   "metadata": {},
   "source": [
    "With a model score of 0.97 on test data and considering time complexity and model scores, we see SVM performs the best for all the tuned models. If there is not restriction on the model execution time, I would prefer going with ADABoost as if we compare the tuned model performance on both validation and test set, ADABoost showed better results than SVM. \n",
    "\n",
    "The reason why ADABoost is slower because since it is an ensemble model and based of the size of the number estimators, the model is believed to take much more time than SVM. \n",
    "\n",
    "Another common observation from confusion matrix over the test data, is related to false negatives. The false negative counts is higher than false postives for almost all the models. Considering this problem is related to the medical domain, where false negative can be more costly than false positives, I would say that the best perfroming tuned models would be acceptable to solve such a problem scenario.\n",
    "\n",
    "But almost all tuned model seems to fit quite well on the Test Data apart from Decision Tree and hence shows good generalization on this dataset. Decision Tree on the other hand, slowed almost same scores for Train, Test and Valid data, but it has some amount of bias due to which the model efficiency is not increasing. Training with more data and multiple batch of data samples may help to remove that. Also noisy data is also known to have bias. Overall, we can conclude that the hyper-parameter tuning on ADABoost and SVM produced good fit and generalized model which performed well on the test data."
   ]
  },
  {
   "cell_type": "markdown",
   "metadata": {},
   "source": [
    "### Acknowledgements"
   ]
  },
  {
   "cell_type": "markdown",
   "metadata": {},
   "source": [
    "Kaggle Data Source Link: https://www.kaggle.com/ronitf/heart-disease-uci\n",
    "\n",
    "\n",
    "Creators of the original dataset:\n",
    "\n",
    "1. Hungarian Institute of Cardiology. Budapest: Andras Janosi, M.D.\n",
    "2. University Hospital, Zurich, Switzerland: William Steinbrunn, M.D.\n",
    "3. University Hospital, Basel, Switzerland: Matthias Pfisterer, M.D.\n",
    "4. V.A. Medical Center, Long Beach and Cleveland Clinic Foundation: Robert Detrano, M.D., Ph.D.\n",
    "\n",
    "Donor of origianl dataset:\n",
    "- David W. Aha (aha '@' ics.uci.edu) (714) 856-8779"
   ]
  },
  {
   "cell_type": "code",
   "execution_count": null,
   "metadata": {},
   "outputs": [],
   "source": []
  }
 ],
 "metadata": {
  "kernelspec": {
   "display_name": "Python 3 (ipykernel)",
   "language": "python",
   "name": "python3"
  },
  "language_info": {
   "codemirror_mode": {
    "name": "ipython",
    "version": 3
   },
   "file_extension": ".py",
   "mimetype": "text/x-python",
   "name": "python",
   "nbconvert_exporter": "python",
   "pygments_lexer": "ipython3",
   "version": "3.8.11"
  }
 },
 "nbformat": 4,
 "nbformat_minor": 4
}
