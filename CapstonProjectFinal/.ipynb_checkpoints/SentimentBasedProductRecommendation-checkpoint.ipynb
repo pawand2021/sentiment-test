{
 "cells": [
  {
   "cell_type": "markdown",
   "id": "1801fec3",
   "metadata": {},
   "source": [
    "# Sentiment Based Product Recommendation Project\n",
    "\n",
    "Developed by : Pawan Kumar Singh Yadav"
   ]
  },
  {
   "cell_type": "markdown",
   "id": "50c95561",
   "metadata": {},
   "source": [
    "## Problem Statement"
   ]
  },
  {
   "cell_type": "markdown",
   "id": "e9062dec",
   "metadata": {},
   "source": [
    "The e-commerce business is quite popular today. Here, you do not need to take orders by going to each customer. A company launches its website to sell the items to the end consumer, and customers can order the products that they require from the same website. Famous examples of such e-commerce companies are Amazon, Flipkart, Myntra, Paytm and Snapdeal.\n",
    "\n",
    " \n",
    "\n",
    "Suppose you are working as a Machine Learning Engineer in an e-commerce company named 'Ebuss'. Ebuss has captured a huge market share in many fields, and it sells the products in various categories such as household essentials, books, personal care products, medicines, cosmetic items, beauty products, electrical appliances, kitchen and dining products and health care products.\n",
    "\n",
    " \n",
    "\n",
    "With the advancement in technology, it is imperative for Ebuss to grow quickly in the e-commerce market to become a major leader in the market because it has to compete with the likes of Amazon, Flipkart, etc., which are already market leaders.\n",
    "\n",
    " \n",
    "\n",
    "As a senior ML Engineer, you are asked to build a model that will improve the recommendations given to the users given their past reviews and ratings. \n",
    "\n",
    " \n",
    "\n",
    "In order to do this, you planned to build a <b>Sentiment-Based Product Recommendation System</b>, which includes the following tasks.\n",
    "\n",
    "- <b>Data sourcing and sentiment analysis</b>\n",
    "- <b>Building a recommendation system</b>\n",
    "- <b>Improving the recommendations using the sentiment analysis model</b>\n",
    "- <b>Deploying the end-to-end project with a user interface</b>"
   ]
  },
  {
   "cell_type": "code",
   "execution_count": 1,
   "id": "ba657f1e",
   "metadata": {},
   "outputs": [
    {
     "name": "stderr",
     "output_type": "stream",
     "text": [
      "[nltk_data] Downloading package stopwords to\n",
      "[nltk_data]     /Users/ICHI16/nltk_data...\n",
      "[nltk_data]   Package stopwords is already up-to-date!\n",
      "[nltk_data] Downloading package punkt to /Users/ICHI16/nltk_data...\n",
      "[nltk_data]   Package punkt is already up-to-date!\n",
      "[nltk_data] Downloading package averaged_perceptron_tagger to\n",
      "[nltk_data]     /Users/ICHI16/nltk_data...\n",
      "[nltk_data]   Package averaged_perceptron_tagger is already up-to-\n",
      "[nltk_data]       date!\n",
      "[nltk_data] Downloading package wordnet to /Users/ICHI16/nltk_data...\n",
      "[nltk_data]   Package wordnet is already up-to-date!\n",
      "[nltk_data] Downloading package omw-1.4 to /Users/ICHI16/nltk_data...\n",
      "[nltk_data]   Package omw-1.4 is already up-to-date!\n"
     ]
    }
   ],
   "source": [
    "import re\n",
    "import time\n",
    "import pandas as pd\n",
    "import numpy as np\n",
    "import seaborn as sns\n",
    "import matplotlib.pyplot as plt\n",
    "from collections import Counter\n",
    "from datetime import datetime\n",
    "import warnings\n",
    "from imblearn.over_sampling import SMOTE\n",
    "from imblearn.under_sampling import RandomUnderSampler\n",
    "from imblearn.pipeline import Pipeline\n",
    "warnings.filterwarnings(\"ignore\") \n",
    "pd.set_option('display.max_columns', 200)\n",
    "pd.set_option('display.max_colwidth', 300)\n",
    "pd.set_option(\"display.precision\", 2)\n",
    "\n",
    "import nltk\n",
    "nltk.download('stopwords')\n",
    "nltk.download('punkt')\n",
    "nltk.download('averaged_perceptron_tagger')\n",
    "nltk.download('wordnet')\n",
    "nltk.download('omw-1.4')\n",
    "from nltk.corpus import stopwords\n",
    "from nltk import FreqDist\n",
    "from nltk.tokenize import word_tokenize\n",
    "from nltk.stem.wordnet import WordNetLemmatizer\n",
    "from nltk.corpus import wordnet\n",
    "\n",
    "from sklearn.model_selection import train_test_split\n",
    "from sklearn.feature_extraction.text import CountVectorizer, TfidfVectorizer\n",
    "from sklearn.linear_model import LogisticRegression\n",
    "from sklearn.ensemble import RandomForestClassifier\n",
    "from sklearn.metrics import accuracy_score\n",
    "from sklearn.metrics import confusion_matrix, classification_report, roc_auc_score\n",
    "\n",
    "import string\n",
    "\n",
    "import time\n",
    "from sklearn import metrics\n",
    "import pickle\n",
    "\n",
    "from sklearn.model_selection import GridSearchCV, RandomizedSearchCV\n",
    "from sklearn.tree import DecisionTreeClassifier\n",
    "\n",
    "import xgboost as xgb\n",
    "from sklearn.metrics.pairwise import pairwise_distances, cosine_similarity\n",
    "\n",
    "\n",
    "from sklearn.preprocessing import MinMaxScaler\n",
    "from numpy import *\n",
    "import os.path\n",
    "\n"
   ]
  },
  {
   "cell_type": "markdown",
   "id": "3b20ffbb",
   "metadata": {},
   "source": [
    "### Lib Versions"
   ]
  },
  {
   "cell_type": "code",
   "execution_count": 2,
   "id": "4242271b",
   "metadata": {},
   "outputs": [
    {
     "name": "stdout",
     "output_type": "stream",
     "text": [
      "1.0.2\n",
      "1.22.2\n",
      "1.4.2\n",
      "3.7\n"
     ]
    }
   ],
   "source": [
    "import sklearn\n",
    "print(sklearn.__version__)\n",
    "print(np.__version__)\n",
    "print(pd.__version__)\n",
    "print(nltk.__version__)"
   ]
  },
  {
   "cell_type": "markdown",
   "id": "a1e7d289",
   "metadata": {},
   "source": [
    "### User Defined Methods"
   ]
  },
  {
   "cell_type": "code",
   "execution_count": 3,
   "id": "b109629b",
   "metadata": {},
   "outputs": [],
   "source": [
    "def calcMissingRowCount(df):\n",
    "    # Summing up the missing values (column-wise) and displaying fraction of NaNs\n",
    "    return df.isnull().sum()\n",
    "\n",
    "def filter_products(productId, pos=1):\n",
    "    review_count = df_main[(df_main.id==productId) & (df_main.user_sentiment==pos)]['brand'].count()\n",
    "    return review_count\n",
    "\n",
    "# Clean the text and remove all the unnecessary elements\n",
    "def clean_text(text):\n",
    "    text = text.lower()\n",
    "    text = text.strip()\n",
    "    text = re.sub(\"\\[\\s*\\w*\\s*\\]\", \"\", text)\n",
    "    dictionary = \"abc\".maketrans('', '', string.punctuation)\n",
    "    text = text.translate(dictionary)\n",
    "    text = re.sub(\"\\S*\\d\\S*\", \"\", text)\n",
    "    \n",
    "    return text\n",
    "\n",
    "# Map NTLK position tags\n",
    "def get_wordnet_pos(tag):\n",
    "    if tag.startswith('J'):\n",
    "        return wordnet.ADJ\n",
    "    elif tag.startswith('V'):\n",
    "        return wordnet.VERB\n",
    "    elif tag.startswith('N'):\n",
    "        return wordnet.NOUN\n",
    "    elif tag.startswith('R'):\n",
    "        return wordnet.ADV\n",
    "    else:\n",
    "        return wordnet.NOUN\n",
    "    \n",
    "def remove_stopword(text):\n",
    "    words = [word for word in text.split() if word.isalpha() and word not in stop_words]\n",
    "    return \" \".join(words)\n",
    "\n",
    "def getMostCommonWords(reviews, n_most_common):\n",
    "    # Flatten review column into a list of words, and set each to lowercase\n",
    "    flattened_reviews = [word for review in reviews for word in \\\n",
    "                         review.lower().split()]\n",
    "\n",
    "\n",
    "    # Remove punctuation from reviews\n",
    "    flattened_reviews = [''.join(char for char in review if \\\n",
    "                                 char not in string.punctuation) for \\\n",
    "                         review in flattened_reviews]\n",
    "\n",
    "\n",
    "    # Remove any empty strings that were created by this process\n",
    "    flattened_reviews = [review for review in flattened_reviews if review]\n",
    "\n",
    "    return Counter(flattened_reviews).most_common(n_most_common)\n",
    "\n",
    "# Collect the n-gram frequency of words\n",
    "def get_top_n_ngram( corpus, n_gram_range ,n=None):\n",
    "    vec = CountVectorizer(ngram_range=(n_gram_range, n_gram_range), stop_words='english').fit(corpus)\n",
    "    bag_of_words = vec.transform(corpus)\n",
    "    #print(bag_of_words)\n",
    "    sum_words = bag_of_words.sum(axis=0) \n",
    "    print(\"--1\",sum_words)\n",
    "    for word, idx in vec.vocabulary_.items():\n",
    "        #print(word)\n",
    "        #print(idx)\n",
    "        break\n",
    "    words_freq = [(word, sum_words[0, idx]) for word, idx in vec.vocabulary_.items()]\n",
    "    #print(\"-31\",words_freq)\n",
    "    words_freq =sorted(words_freq, key = lambda x: x[1], reverse=True)\n",
    "    return words_freq[:n]\n",
    "\n",
    "# Save pickle file\n",
    "def save_object(obj, filename):\n",
    "    filename = filename+'.pkl'\n",
    "    root_path = \"pickle/\"\n",
    "    completeName = os.path.join(root_path, filename)  \n",
    "    pickle.dump(obj, open(completeName, 'wb'))\n",
    "    \n",
    "def get_sentiment_recommendations(user):\n",
    "    if (user in user_final_rating.index):\n",
    "        # Get the product recommedation using the trained ML model\n",
    "        recommendations = list(user_final_rating.loc[user].sort_values(ascending=False)[0:20].index)\n",
    "        temp = df_clean[df_clean.id.isin(recommendations)]\n",
    "         \n",
    "        X =  tfidf_vectorizer.transform(temp[\"reviews_text_cleaned\"].values.astype(str))\n",
    "        temp[\"predicted_sentiment\"]= xgclf.predict(X)\n",
    "        temp = temp[['name','predicted_sentiment']]\n",
    "        temp_grouped = temp.groupby('name', as_index=False).count()\n",
    "        temp_grouped[\"pos_review_count\"] = temp_grouped.name.apply(lambda x: temp[(temp.name==x) & (temp.predicted_sentiment==1)][\"predicted_sentiment\"].count())\n",
    "        temp_grouped[\"total_review_count\"] = temp_grouped['predicted_sentiment']\n",
    "        temp_grouped['pos_sentiment_percent'] = np.round(temp_grouped[\"pos_review_count\"]/temp_grouped[\"total_review_count\"]*100,2)\n",
    "        return temp_grouped.sort_values('pos_sentiment_percent', ascending=False)\n",
    "    else:\n",
    "        print(f\"User name {user} doesn't exist\")"
   ]
  },
  {
   "cell_type": "markdown",
   "id": "ee220c63",
   "metadata": {},
   "source": [
    "## Constants\n"
   ]
  },
  {
   "cell_type": "code",
   "execution_count": 4,
   "id": "0415120d",
   "metadata": {},
   "outputs": [],
   "source": [
    "TEST_USER_ID = \"08dallas\""
   ]
  },
  {
   "cell_type": "markdown",
   "id": "acb18c32",
   "metadata": {},
   "source": [
    "## Reading the Dataset"
   ]
  },
  {
   "cell_type": "code",
   "execution_count": 5,
   "id": "dc00e756",
   "metadata": {},
   "outputs": [
    {
     "data": {
      "text/html": [
       "<div>\n",
       "<style scoped>\n",
       "    .dataframe tbody tr th:only-of-type {\n",
       "        vertical-align: middle;\n",
       "    }\n",
       "\n",
       "    .dataframe tbody tr th {\n",
       "        vertical-align: top;\n",
       "    }\n",
       "\n",
       "    .dataframe thead th {\n",
       "        text-align: right;\n",
       "    }\n",
       "</style>\n",
       "<table border=\"1\" class=\"dataframe\">\n",
       "  <thead>\n",
       "    <tr style=\"text-align: right;\">\n",
       "      <th></th>\n",
       "      <th>id</th>\n",
       "      <th>brand</th>\n",
       "      <th>categories</th>\n",
       "      <th>manufacturer</th>\n",
       "      <th>name</th>\n",
       "      <th>reviews_date</th>\n",
       "      <th>reviews_didPurchase</th>\n",
       "      <th>reviews_doRecommend</th>\n",
       "      <th>reviews_rating</th>\n",
       "      <th>reviews_text</th>\n",
       "      <th>reviews_title</th>\n",
       "      <th>reviews_userCity</th>\n",
       "      <th>reviews_userProvince</th>\n",
       "      <th>reviews_username</th>\n",
       "      <th>user_sentiment</th>\n",
       "    </tr>\n",
       "  </thead>\n",
       "  <tbody>\n",
       "    <tr>\n",
       "      <th>0</th>\n",
       "      <td>AV13O1A8GV-KLJ3akUyj</td>\n",
       "      <td>Universal Music</td>\n",
       "      <td>Movies, Music &amp; Books,Music,R&amp;b,Movies &amp; TV,Movie Bundles &amp; Collections,CDs &amp; Vinyl,Rap &amp; Hip-Hop,Bass,Music on CD or Vinyl,Rap,Hip-Hop,Mainstream Rap,Pop Rap</td>\n",
       "      <td>Universal Music Group / Cash Money</td>\n",
       "      <td>Pink Friday: Roman Reloaded Re-Up (w/dvd)</td>\n",
       "      <td>2012-11-30T06:21:45.000Z</td>\n",
       "      <td>NaN</td>\n",
       "      <td>NaN</td>\n",
       "      <td>5</td>\n",
       "      <td>i love this album. it's very good. more to the hip hop side than her current pop sound.. SO HYPE! i listen to this everyday at the gym! i give it 5star rating all the way. her metaphors are just crazy.</td>\n",
       "      <td>Just Awesome</td>\n",
       "      <td>Los Angeles</td>\n",
       "      <td>NaN</td>\n",
       "      <td>joshua</td>\n",
       "      <td>Positive</td>\n",
       "    </tr>\n",
       "    <tr>\n",
       "      <th>1</th>\n",
       "      <td>AV14LG0R-jtxr-f38QfS</td>\n",
       "      <td>Lundberg</td>\n",
       "      <td>Food,Packaged Foods,Snacks,Crackers,Snacks, Cookies &amp; Chips,Rice Cakes,Cakes</td>\n",
       "      <td>Lundberg</td>\n",
       "      <td>Lundberg Organic Cinnamon Toast Rice Cakes</td>\n",
       "      <td>2017-07-09T00:00:00.000Z</td>\n",
       "      <td>True</td>\n",
       "      <td>NaN</td>\n",
       "      <td>5</td>\n",
       "      <td>Good flavor. This review was collected as part of a promotion.</td>\n",
       "      <td>Good</td>\n",
       "      <td>NaN</td>\n",
       "      <td>NaN</td>\n",
       "      <td>dorothy w</td>\n",
       "      <td>Positive</td>\n",
       "    </tr>\n",
       "    <tr>\n",
       "      <th>2</th>\n",
       "      <td>AV14LG0R-jtxr-f38QfS</td>\n",
       "      <td>Lundberg</td>\n",
       "      <td>Food,Packaged Foods,Snacks,Crackers,Snacks, Cookies &amp; Chips,Rice Cakes,Cakes</td>\n",
       "      <td>Lundberg</td>\n",
       "      <td>Lundberg Organic Cinnamon Toast Rice Cakes</td>\n",
       "      <td>2017-07-09T00:00:00.000Z</td>\n",
       "      <td>True</td>\n",
       "      <td>NaN</td>\n",
       "      <td>5</td>\n",
       "      <td>Good flavor.</td>\n",
       "      <td>Good</td>\n",
       "      <td>NaN</td>\n",
       "      <td>NaN</td>\n",
       "      <td>dorothy w</td>\n",
       "      <td>Positive</td>\n",
       "    </tr>\n",
       "    <tr>\n",
       "      <th>3</th>\n",
       "      <td>AV16khLE-jtxr-f38VFn</td>\n",
       "      <td>K-Y</td>\n",
       "      <td>Personal Care,Medicine Cabinet,Lubricant/Spermicide,Health,Sexual Wellness,Lubricants</td>\n",
       "      <td>K-Y</td>\n",
       "      <td>K-Y Love Sensuality Pleasure Gel</td>\n",
       "      <td>2016-01-06T00:00:00.000Z</td>\n",
       "      <td>False</td>\n",
       "      <td>False</td>\n",
       "      <td>1</td>\n",
       "      <td>I read through the reviews on here before looking in to buying one of the couples lubricants, and was ultimately disappointed that it didn't even live up to the reviews I had read. For starters, neither my boyfriend nor I could notice any sort of enhanced or 'captivating' sensation. What we did ...</td>\n",
       "      <td>Disappointed</td>\n",
       "      <td>NaN</td>\n",
       "      <td>NaN</td>\n",
       "      <td>rebecca</td>\n",
       "      <td>Negative</td>\n",
       "    </tr>\n",
       "    <tr>\n",
       "      <th>4</th>\n",
       "      <td>AV16khLE-jtxr-f38VFn</td>\n",
       "      <td>K-Y</td>\n",
       "      <td>Personal Care,Medicine Cabinet,Lubricant/Spermicide,Health,Sexual Wellness,Lubricants</td>\n",
       "      <td>K-Y</td>\n",
       "      <td>K-Y Love Sensuality Pleasure Gel</td>\n",
       "      <td>2016-12-21T00:00:00.000Z</td>\n",
       "      <td>False</td>\n",
       "      <td>False</td>\n",
       "      <td>1</td>\n",
       "      <td>My husband bought this gel for us. The gel caused irritation and it felt like it was burning my skin. I wouldn't recommend this gel.</td>\n",
       "      <td>Irritation</td>\n",
       "      <td>NaN</td>\n",
       "      <td>NaN</td>\n",
       "      <td>walker557</td>\n",
       "      <td>Negative</td>\n",
       "    </tr>\n",
       "  </tbody>\n",
       "</table>\n",
       "</div>"
      ],
      "text/plain": [
       "                     id            brand  \\\n",
       "0  AV13O1A8GV-KLJ3akUyj  Universal Music   \n",
       "1  AV14LG0R-jtxr-f38QfS         Lundberg   \n",
       "2  AV14LG0R-jtxr-f38QfS         Lundberg   \n",
       "3  AV16khLE-jtxr-f38VFn              K-Y   \n",
       "4  AV16khLE-jtxr-f38VFn              K-Y   \n",
       "\n",
       "                                                                                                                                                       categories  \\\n",
       "0  Movies, Music & Books,Music,R&b,Movies & TV,Movie Bundles & Collections,CDs & Vinyl,Rap & Hip-Hop,Bass,Music on CD or Vinyl,Rap,Hip-Hop,Mainstream Rap,Pop Rap   \n",
       "1                                                                                    Food,Packaged Foods,Snacks,Crackers,Snacks, Cookies & Chips,Rice Cakes,Cakes   \n",
       "2                                                                                    Food,Packaged Foods,Snacks,Crackers,Snacks, Cookies & Chips,Rice Cakes,Cakes   \n",
       "3                                                                           Personal Care,Medicine Cabinet,Lubricant/Spermicide,Health,Sexual Wellness,Lubricants   \n",
       "4                                                                           Personal Care,Medicine Cabinet,Lubricant/Spermicide,Health,Sexual Wellness,Lubricants   \n",
       "\n",
       "                         manufacturer  \\\n",
       "0  Universal Music Group / Cash Money   \n",
       "1                            Lundberg   \n",
       "2                            Lundberg   \n",
       "3                                 K-Y   \n",
       "4                                 K-Y   \n",
       "\n",
       "                                         name              reviews_date  \\\n",
       "0   Pink Friday: Roman Reloaded Re-Up (w/dvd)  2012-11-30T06:21:45.000Z   \n",
       "1  Lundberg Organic Cinnamon Toast Rice Cakes  2017-07-09T00:00:00.000Z   \n",
       "2  Lundberg Organic Cinnamon Toast Rice Cakes  2017-07-09T00:00:00.000Z   \n",
       "3            K-Y Love Sensuality Pleasure Gel  2016-01-06T00:00:00.000Z   \n",
       "4            K-Y Love Sensuality Pleasure Gel  2016-12-21T00:00:00.000Z   \n",
       "\n",
       "  reviews_didPurchase reviews_doRecommend  reviews_rating  \\\n",
       "0                 NaN                 NaN               5   \n",
       "1                True                 NaN               5   \n",
       "2                True                 NaN               5   \n",
       "3               False               False               1   \n",
       "4               False               False               1   \n",
       "\n",
       "                                                                                                                                                                                                                                                                                                  reviews_text  \\\n",
       "0                                                                                                    i love this album. it's very good. more to the hip hop side than her current pop sound.. SO HYPE! i listen to this everyday at the gym! i give it 5star rating all the way. her metaphors are just crazy.   \n",
       "1                                                                                                                                                                                                                                               Good flavor. This review was collected as part of a promotion.   \n",
       "2                                                                                                                                                                                                                                                                                                 Good flavor.   \n",
       "3  I read through the reviews on here before looking in to buying one of the couples lubricants, and was ultimately disappointed that it didn't even live up to the reviews I had read. For starters, neither my boyfriend nor I could notice any sort of enhanced or 'captivating' sensation. What we did ...   \n",
       "4                                                                                                                                                                         My husband bought this gel for us. The gel caused irritation and it felt like it was burning my skin. I wouldn't recommend this gel.   \n",
       "\n",
       "  reviews_title reviews_userCity reviews_userProvince reviews_username  \\\n",
       "0  Just Awesome      Los Angeles                  NaN           joshua   \n",
       "1          Good              NaN                  NaN        dorothy w   \n",
       "2          Good              NaN                  NaN        dorothy w   \n",
       "3  Disappointed              NaN                  NaN          rebecca   \n",
       "4    Irritation              NaN                  NaN        walker557   \n",
       "\n",
       "  user_sentiment  \n",
       "0       Positive  \n",
       "1       Positive  \n",
       "2       Positive  \n",
       "3       Negative  \n",
       "4       Negative  "
      ]
     },
     "execution_count": 5,
     "metadata": {},
     "output_type": "execute_result"
    }
   ],
   "source": [
    "df_main = pd.read_csv(\"Dataset/sample30.csv\")\n",
    "df_main.head()"
   ]
  },
  {
   "cell_type": "markdown",
   "id": "8ece8120",
   "metadata": {},
   "source": [
    "## A - Exploratory Data Analysis"
   ]
  },
  {
   "cell_type": "markdown",
   "id": "9d3a291c",
   "metadata": {},
   "source": [
    "### Data Cleaning and Preprocessing"
   ]
  },
  {
   "cell_type": "code",
   "execution_count": 6,
   "id": "c25f89f6",
   "metadata": {},
   "outputs": [
    {
     "data": {
      "text/plain": [
       "(30000, 15)"
      ]
     },
     "execution_count": 6,
     "metadata": {},
     "output_type": "execute_result"
    }
   ],
   "source": [
    "df_main.shape"
   ]
  },
  {
   "cell_type": "code",
   "execution_count": 7,
   "id": "cb0312de",
   "metadata": {},
   "outputs": [
    {
     "name": "stdout",
     "output_type": "stream",
     "text": [
      "<class 'pandas.core.frame.DataFrame'>\n",
      "RangeIndex: 30000 entries, 0 to 29999\n",
      "Data columns (total 15 columns):\n",
      " #   Column                Non-Null Count  Dtype \n",
      "---  ------                --------------  ----- \n",
      " 0   id                    30000 non-null  object\n",
      " 1   brand                 30000 non-null  object\n",
      " 2   categories            30000 non-null  object\n",
      " 3   manufacturer          29859 non-null  object\n",
      " 4   name                  30000 non-null  object\n",
      " 5   reviews_date          29954 non-null  object\n",
      " 6   reviews_didPurchase   15932 non-null  object\n",
      " 7   reviews_doRecommend   27430 non-null  object\n",
      " 8   reviews_rating        30000 non-null  int64 \n",
      " 9   reviews_text          30000 non-null  object\n",
      " 10  reviews_title         29810 non-null  object\n",
      " 11  reviews_userCity      1929 non-null   object\n",
      " 12  reviews_userProvince  170 non-null    object\n",
      " 13  reviews_username      29937 non-null  object\n",
      " 14  user_sentiment        29999 non-null  object\n",
      "dtypes: int64(1), object(14)\n",
      "memory usage: 3.4+ MB\n"
     ]
    }
   ],
   "source": [
    "df_main.info()"
   ]
  },
  {
   "cell_type": "code",
   "execution_count": 8,
   "id": "53a03d31",
   "metadata": {},
   "outputs": [
    {
     "data": {
      "text/plain": [
       "id                          0\n",
       "brand                       0\n",
       "categories                  0\n",
       "manufacturer              141\n",
       "name                        0\n",
       "reviews_date               46\n",
       "reviews_didPurchase     14068\n",
       "reviews_doRecommend      2570\n",
       "reviews_rating              0\n",
       "reviews_text                0\n",
       "reviews_title             190\n",
       "reviews_userCity        28071\n",
       "reviews_userProvince    29830\n",
       "reviews_username           63\n",
       "user_sentiment              1\n",
       "dtype: int64"
      ]
     },
     "execution_count": 8,
     "metadata": {},
     "output_type": "execute_result"
    }
   ],
   "source": [
    "# Calculating missing values\n",
    "calcMissingRowCount(df_main)"
   ]
  },
  {
   "cell_type": "code",
   "execution_count": 9,
   "id": "2dd00a8a",
   "metadata": {},
   "outputs": [],
   "source": [
    "# Remove the missing row of user_sentiment\n",
    "df_main = df_main[~df_main.user_sentiment.isnull()]"
   ]
  },
  {
   "cell_type": "code",
   "execution_count": 10,
   "id": "ea1cde5f",
   "metadata": {},
   "outputs": [],
   "source": [
    "# Map the categorical user_sentiment to numerical 1 or 0 for modelling\n",
    "df_main['user_sentiment'] = df_main['user_sentiment'].map({'Positive':1,'Negative':0})"
   ]
  },
  {
   "cell_type": "code",
   "execution_count": 11,
   "id": "04419e48",
   "metadata": {},
   "outputs": [
    {
     "data": {
      "text/plain": [
       "1    0.89\n",
       "0    0.11\n",
       "Name: user_sentiment, dtype: float64"
      ]
     },
     "execution_count": 11,
     "metadata": {},
     "output_type": "execute_result"
    }
   ],
   "source": [
    "# Get the value count of user_sentiments column\n",
    "df_main[\"user_sentiment\"].value_counts(normalize=True)"
   ]
  },
  {
   "cell_type": "code",
   "execution_count": 12,
   "id": "65f93ce3",
   "metadata": {},
   "outputs": [
    {
     "data": {
      "text/plain": [
       "<AxesSubplot:xlabel='user_sentiment', ylabel='count'>"
      ]
     },
     "execution_count": 12,
     "metadata": {},
     "output_type": "execute_result"
    },
    {
     "data": {
      "image/png": "[encoded data removed]",
      "text/plain": [
       "<Figure size 432x288 with 1 Axes>"
      ]
     },
     "metadata": {
      "needs_background": "light"
     },
     "output_type": "display_data"
    }
   ],
   "source": [
    "# Visualize using count plot\n",
    "sns.countplot(x='user_sentiment', data= df_main, palette=\"Set2\")"
   ]
  },
  {
   "cell_type": "markdown",
   "id": "eb252da6",
   "metadata": {},
   "source": [
    "### Observation:\n",
    "We can see overrepresentation of positive reviews. we may have to do Class Imbalance techniques during modelling."
   ]
  },
  {
   "cell_type": "code",
   "execution_count": 13,
   "id": "e845f954",
   "metadata": {},
   "outputs": [
    {
     "data": {
      "text/plain": [
       "count    29999.00\n",
       "mean         4.48\n",
       "std          0.99\n",
       "min          1.00\n",
       "25%          4.00\n",
       "50%          5.00\n",
       "75%          5.00\n",
       "max          5.00\n",
       "Name: reviews_rating, dtype: float64"
      ]
     },
     "execution_count": 13,
     "metadata": {},
     "output_type": "execute_result"
    }
   ],
   "source": [
    "df_main[\"reviews_rating\"].describe()"
   ]
  },
  {
   "cell_type": "code",
   "execution_count": 14,
   "id": "647a3622",
   "metadata": {},
   "outputs": [
    {
     "data": {
      "text/plain": [
       "5    20830\n",
       "4     6020\n",
       "1     1384\n",
       "3     1345\n",
       "2      420\n",
       "Name: reviews_rating, dtype: int64"
      ]
     },
     "execution_count": 14,
     "metadata": {},
     "output_type": "execute_result"
    }
   ],
   "source": [
    "df_main[\"reviews_rating\"].value_counts()"
   ]
  },
  {
   "cell_type": "code",
   "execution_count": 15,
   "id": "91831df8",
   "metadata": {},
   "outputs": [
    {
     "data": {
      "text/plain": [
       "<AxesSubplot:xlabel='reviews_rating', ylabel='count'>"
      ]
     },
     "execution_count": 15,
     "metadata": {},
     "output_type": "execute_result"
    },
    {
     "data": {
      "image/png": "[encoded data removed]",
      "text/plain": [
       "<Figure size 432x288 with 1 Axes>"
      ]
     },
     "metadata": {
      "needs_background": "light"
     },
     "output_type": "display_data"
    }
   ],
   "source": [
    "#visualize the user_rating..\n",
    "sns.countplot(x='reviews_rating', data= df_main, palette=\"Set2\")"
   ]
  },
  {
   "cell_type": "code",
   "execution_count": 16,
   "id": "96ba0f32",
   "metadata": {},
   "outputs": [
    {
     "data": {
      "text/plain": [
       "count    26632.00\n",
       "mean         4.56\n",
       "std          0.87\n",
       "min          1.00\n",
       "25%          4.00\n",
       "50%          5.00\n",
       "75%          5.00\n",
       "max          5.00\n",
       "Name: reviews_rating, dtype: float64"
      ]
     },
     "execution_count": 16,
     "metadata": {},
     "output_type": "execute_result"
    }
   ],
   "source": [
    "df_main[df_main[\"user_sentiment\"]==1][\"reviews_rating\"].describe()"
   ]
  },
  {
   "cell_type": "code",
   "execution_count": 17,
   "id": "2edd52eb",
   "metadata": {},
   "outputs": [
    {
     "data": {
      "text/plain": [
       "count    3367.00\n",
       "mean        3.87\n",
       "std         1.54\n",
       "min         1.00\n",
       "25%         3.00\n",
       "50%         5.00\n",
       "75%         5.00\n",
       "max         5.00\n",
       "Name: reviews_rating, dtype: float64"
      ]
     },
     "execution_count": 17,
     "metadata": {},
     "output_type": "execute_result"
    }
   ],
   "source": [
    "df_main[df_main[\"user_sentiment\"]==0][\"reviews_rating\"].describe()"
   ]
  },
  {
   "cell_type": "code",
   "execution_count": null,
   "id": "7df8a348",
   "metadata": {},
   "outputs": [],
   "source": []
  },
  {
   "cell_type": "code",
   "execution_count": 18,
   "id": "70627cd9",
   "metadata": {},
   "outputs": [
    {
     "data": {
      "text/html": [
       "<div>\n",
       "<style scoped>\n",
       "    .dataframe tbody tr th:only-of-type {\n",
       "        vertical-align: middle;\n",
       "    }\n",
       "\n",
       "    .dataframe tbody tr th {\n",
       "        vertical-align: top;\n",
       "    }\n",
       "\n",
       "    .dataframe thead th {\n",
       "        text-align: right;\n",
       "    }\n",
       "</style>\n",
       "<table border=\"1\" class=\"dataframe\">\n",
       "  <thead>\n",
       "    <tr style=\"text-align: right;\">\n",
       "      <th></th>\n",
       "      <th>reviews_title</th>\n",
       "      <th>reviews_text</th>\n",
       "      <th>reviews_rating</th>\n",
       "    </tr>\n",
       "  </thead>\n",
       "  <tbody>\n",
       "    <tr>\n",
       "      <th>9</th>\n",
       "      <td>Don't buy</td>\n",
       "      <td>Got as a surprise for my husband there is nothing special about it just a lube save the money and get plain KY if you just need a lube wish I could return it for a refund</td>\n",
       "      <td>1</td>\n",
       "    </tr>\n",
       "    <tr>\n",
       "      <th>11</th>\n",
       "      <td>Waste of Money</td>\n",
       "      <td>Purchased this thinking it would have some sort of warming effect but it's the same as the original. Don't waste your money.</td>\n",
       "      <td>1</td>\n",
       "    </tr>\n",
       "    <tr>\n",
       "      <th>14</th>\n",
       "      <td>Disappointed</td>\n",
       "      <td>First time purchase of this type of product. Maybe I expected too much. Did not think there was any warming feeling at all. Left us sticky! Even after trying to was it off.</td>\n",
       "      <td>1</td>\n",
       "    </tr>\n",
       "    <tr>\n",
       "      <th>18</th>\n",
       "      <td>Pretty nice</td>\n",
       "      <td>I bought this because it had better reviews than the his and hers jelly, but I feel like it didn't work that well for us. It was kind of warm-feeling, but that's about it. I guess I don't know what's supposed to happen! Lol</td>\n",
       "      <td>3</td>\n",
       "    </tr>\n",
       "    <tr>\n",
       "      <th>54</th>\n",
       "      <td>New formula is terrible</td>\n",
       "      <td>I used (and loved) this product for several years until they changed it. It used to moisturize my skin and left it feeling soft. Now, it sits on top of my skin and is never absorbed. It just leaves a slimy film on my skin. I will no longer purchase this product.</td>\n",
       "      <td>1</td>\n",
       "    </tr>\n",
       "    <tr>\n",
       "      <th>...</th>\n",
       "      <td>...</td>\n",
       "      <td>...</td>\n",
       "      <td>...</td>\n",
       "    </tr>\n",
       "    <tr>\n",
       "      <th>29050</th>\n",
       "      <td>Didn't Do Much For Dryness</td>\n",
       "      <td>I received this product from Influenster. I absolutely love the whole system together, it made my hair oil-free for 48 hours. But I expected the conditioner to do more for the dryness at the ends of my hair like advertised. I didn't really notice much of a different in dryness before and after I...</td>\n",
       "      <td>3</td>\n",
       "    </tr>\n",
       "    <tr>\n",
       "      <th>29051</th>\n",
       "      <td>Not the best</td>\n",
       "      <td>I used this product for a month straight before reviewing it and I'm not really all that impressed. My hair still gets pretty oily, my ends are still dry.... I mean it cleaned my hair I guess. It's nothing spectacular really. It didn't make my hair extremely soft but it didn't make my hair feel ...</td>\n",
       "      <td>3</td>\n",
       "    </tr>\n",
       "    <tr>\n",
       "      <th>29053</th>\n",
       "      <td>clay conditioning</td>\n",
       "      <td>Got this item as a compliment from influenster but it really made my hair smooth and shining after the usage. This review was collected as part of a promotion.</td>\n",
       "      <td>3</td>\n",
       "    </tr>\n",
       "    <tr>\n",
       "      <th>29054</th>\n",
       "      <td>Eh</td>\n",
       "      <td>I am not in love with the conditioner. The clay mask and shampoo are GREAT but I didn't feel like this did anything for my ends. I would buy the other two, but not this, probably because I have fine hair and my ends need deep conditioning. Smells great though! I got this product free for testing...</td>\n",
       "      <td>3</td>\n",
       "    </tr>\n",
       "    <tr>\n",
       "      <th>29055</th>\n",
       "      <td>Just Okay</td>\n",
       "      <td>This conditioner didn't wow me as much as the mask and shampoo of the line did. The conditioner wasn't of a very thick consistency, which I prefer for conditioner. It also didn't seem to make my hair feel particularly moisturized. I received this complimentary for testing purposes, but all opini...</td>\n",
       "      <td>3</td>\n",
       "    </tr>\n",
       "  </tbody>\n",
       "</table>\n",
       "<p>2192 rows × 3 columns</p>\n",
       "</div>"
      ],
      "text/plain": [
       "                    reviews_title  \\\n",
       "9                       Don't buy   \n",
       "11                 Waste of Money   \n",
       "14                   Disappointed   \n",
       "18                    Pretty nice   \n",
       "54        New formula is terrible   \n",
       "...                           ...   \n",
       "29050  Didn't Do Much For Dryness   \n",
       "29051                Not the best   \n",
       "29053           clay conditioning   \n",
       "29054                          Eh   \n",
       "29055                   Just Okay   \n",
       "\n",
       "                                                                                                                                                                                                                                                                                                      reviews_text  \\\n",
       "9                                                                                                                                       Got as a surprise for my husband there is nothing special about it just a lube save the money and get plain KY if you just need a lube wish I could return it for a refund   \n",
       "11                                                                                                                                                                                    Purchased this thinking it would have some sort of warming effect but it's the same as the original. Don't waste your money.   \n",
       "14                                                                                                                                    First time purchase of this type of product. Maybe I expected too much. Did not think there was any warming feeling at all. Left us sticky! Even after trying to was it off.   \n",
       "18                                                                                 I bought this because it had better reviews than the his and hers jelly, but I feel like it didn't work that well for us. It was kind of warm-feeling, but that's about it. I guess I don't know what's supposed to happen! Lol   \n",
       "54                                          I used (and loved) this product for several years until they changed it. It used to moisturize my skin and left it feeling soft. Now, it sits on top of my skin and is never absorbed. It just leaves a slimy film on my skin. I will no longer purchase this product.   \n",
       "...                                                                                                                                                                                                                                                                                                            ...   \n",
       "29050  I received this product from Influenster. I absolutely love the whole system together, it made my hair oil-free for 48 hours. But I expected the conditioner to do more for the dryness at the ends of my hair like advertised. I didn't really notice much of a different in dryness before and after I...   \n",
       "29051  I used this product for a month straight before reviewing it and I'm not really all that impressed. My hair still gets pretty oily, my ends are still dry.... I mean it cleaned my hair I guess. It's nothing spectacular really. It didn't make my hair extremely soft but it didn't make my hair feel ...   \n",
       "29053                                                                                                                                              Got this item as a compliment from influenster but it really made my hair smooth and shining after the usage. This review was collected as part of a promotion.   \n",
       "29054  I am not in love with the conditioner. The clay mask and shampoo are GREAT but I didn't feel like this did anything for my ends. I would buy the other two, but not this, probably because I have fine hair and my ends need deep conditioning. Smells great though! I got this product free for testing...   \n",
       "29055  This conditioner didn't wow me as much as the mask and shampoo of the line did. The conditioner wasn't of a very thick consistency, which I prefer for conditioner. It also didn't seem to make my hair feel particularly moisturized. I received this complimentary for testing purposes, but all opini...   \n",
       "\n",
       "       reviews_rating  \n",
       "9                   1  \n",
       "11                  1  \n",
       "14                  1  \n",
       "18                  3  \n",
       "54                  1  \n",
       "...               ...  \n",
       "29050               3  \n",
       "29051               3  \n",
       "29053               3  \n",
       "29054               3  \n",
       "29055               3  \n",
       "\n",
       "[2192 rows x 3 columns]"
      ]
     },
     "execution_count": 18,
     "metadata": {},
     "output_type": "execute_result"
    }
   ],
   "source": [
    "df_main[(df_main[\"user_sentiment\"]==1) & (df_main[\"reviews_rating\"]<4)][[\"reviews_title\",\"reviews_text\", \"reviews_rating\"]]"
   ]
  },
  {
   "cell_type": "code",
   "execution_count": null,
   "id": "a7cd3752",
   "metadata": {},
   "outputs": [],
   "source": []
  },
  {
   "cell_type": "code",
   "execution_count": 19,
   "id": "ac652c2a",
   "metadata": {},
   "outputs": [
    {
     "data": {
      "text/html": [
       "<div>\n",
       "<style scoped>\n",
       "    .dataframe tbody tr th:only-of-type {\n",
       "        vertical-align: middle;\n",
       "    }\n",
       "\n",
       "    .dataframe tbody tr th {\n",
       "        vertical-align: top;\n",
       "    }\n",
       "\n",
       "    .dataframe thead th {\n",
       "        text-align: right;\n",
       "    }\n",
       "</style>\n",
       "<table border=\"1\" class=\"dataframe\">\n",
       "  <thead>\n",
       "    <tr style=\"text-align: right;\">\n",
       "      <th></th>\n",
       "      <th>reviews_title</th>\n",
       "      <th>reviews_text</th>\n",
       "      <th>reviews_rating</th>\n",
       "    </tr>\n",
       "  </thead>\n",
       "  <tbody>\n",
       "    <tr>\n",
       "      <th>92</th>\n",
       "      <td>hydrating but not too heavy</td>\n",
       "      <td>It hydrates my skin. It is not too thick and heavy when I put it on. This review was collected as part of a promotion.</td>\n",
       "      <td>4</td>\n",
       "    </tr>\n",
       "    <tr>\n",
       "      <th>96</th>\n",
       "      <td>This product has made a real difference on my skin</td>\n",
       "      <td>In only a week I can see the difference in my skin on my face. This review was collected as part of a promotion.</td>\n",
       "      <td>4</td>\n",
       "    </tr>\n",
       "    <tr>\n",
       "      <th>100</th>\n",
       "      <td>Noticed a difference in just two weeks!</td>\n",
       "      <td>This product has made my skin smoother and supple after only two weeks. It absorbs well and leaves no residue. This review was collected as part of a promotion.</td>\n",
       "      <td>4</td>\n",
       "    </tr>\n",
       "    <tr>\n",
       "      <th>106</th>\n",
       "      <td>Very rich cream</td>\n",
       "      <td>I like to use this cream on my neck and collarbone to help keep my skin well moisturized, but it can be a little heavy for the skin on my face This review was collected as part of a promotion.</td>\n",
       "      <td>4</td>\n",
       "    </tr>\n",
       "    <tr>\n",
       "      <th>117</th>\n",
       "      <td>Not greasy</td>\n",
       "      <td>I finally found a moisturizing product that will absorb completely and not leave my skin feeling like it's suffocating. I apply it, and it feels like there is nothing there but my skin looks smoother. This review was collected as part of a promotion.</td>\n",
       "      <td>4</td>\n",
       "    </tr>\n",
       "    <tr>\n",
       "      <th>...</th>\n",
       "      <td>...</td>\n",
       "      <td>...</td>\n",
       "      <td>...</td>\n",
       "    </tr>\n",
       "    <tr>\n",
       "      <th>29818</th>\n",
       "      <td>Great Product</td>\n",
       "      <td>I received a complimentary sample of this product and it worked so well for my hair! I have very thick hair so my roots always get oily and my ends are dry, this left my hair the cleanest it's felt in a long time. Will def recommend this to my family and friends! This review was collected as par...</td>\n",
       "      <td>5</td>\n",
       "    </tr>\n",
       "    <tr>\n",
       "      <th>29855</th>\n",
       "      <td>Great</td>\n",
       "      <td>This has prolonged the color in my hair! Not only is my hair healthier but I think I'll have to visit my stylist less! This review was collected as part of a promotion.</td>\n",
       "      <td>5</td>\n",
       "    </tr>\n",
       "    <tr>\n",
       "      <th>29858</th>\n",
       "      <td>Makes my hair soft and shiny without excess oil!</td>\n",
       "      <td>This conditioner makes my hair very soft without weighing it down! I was afraid it'd make my roots more oily and weight them down, but it doesn't one bit! My hair is colored, and it hasn't faded out the color either! I'd highly recommend giving this a try! This review was collected as part of a ...</td>\n",
       "      <td>5</td>\n",
       "    </tr>\n",
       "    <tr>\n",
       "      <th>29862</th>\n",
       "      <td>Great Conditioner</td>\n",
       "      <td>This conditioner has become a staple in my hair regimen This review was collected as part of a promotion.</td>\n",
       "      <td>5</td>\n",
       "    </tr>\n",
       "    <tr>\n",
       "      <th>29941</th>\n",
       "      <td>Good for keeping combination hair under control</td>\n",
       "      <td>It's very difficult to find a conditioner that's non-greasy. I found that this one (especially when used as part of the set) was hydrating and made my hair soft and shiny without that nasty greasy feeling. I received this product free from Influenster for testing purposes, but all opinions are m...</td>\n",
       "      <td>5</td>\n",
       "    </tr>\n",
       "  </tbody>\n",
       "</table>\n",
       "<p>2410 rows × 3 columns</p>\n",
       "</div>"
      ],
      "text/plain": [
       "                                            reviews_title  \\\n",
       "92                            hydrating but not too heavy   \n",
       "96     This product has made a real difference on my skin   \n",
       "100               Noticed a difference in just two weeks!   \n",
       "106                                       Very rich cream   \n",
       "117                                            Not greasy   \n",
       "...                                                   ...   \n",
       "29818                                       Great Product   \n",
       "29855                                               Great   \n",
       "29858    Makes my hair soft and shiny without excess oil!   \n",
       "29862                                   Great Conditioner   \n",
       "29941     Good for keeping combination hair under control   \n",
       "\n",
       "                                                                                                                                                                                                                                                                                                      reviews_text  \\\n",
       "92                                                                                                                                                                                          It hydrates my skin. It is not too thick and heavy when I put it on. This review was collected as part of a promotion.   \n",
       "96                                                                                                                                                                                                In only a week I can see the difference in my skin on my face. This review was collected as part of a promotion.   \n",
       "100                                                                                                                                               This product has made my skin smoother and supple after only two weeks. It absorbs well and leaves no residue. This review was collected as part of a promotion.   \n",
       "106                                                                                                               I like to use this cream on my neck and collarbone to help keep my skin well moisturized, but it can be a little heavy for the skin on my face This review was collected as part of a promotion.   \n",
       "117                                                     I finally found a moisturizing product that will absorb completely and not leave my skin feeling like it's suffocating. I apply it, and it feels like there is nothing there but my skin looks smoother. This review was collected as part of a promotion.   \n",
       "...                                                                                                                                                                                                                                                                                                            ...   \n",
       "29818  I received a complimentary sample of this product and it worked so well for my hair! I have very thick hair so my roots always get oily and my ends are dry, this left my hair the cleanest it's felt in a long time. Will def recommend this to my family and friends! This review was collected as par...   \n",
       "29855                                                                                                                                     This has prolonged the color in my hair! Not only is my hair healthier but I think I'll have to visit my stylist less! This review was collected as part of a promotion.   \n",
       "29858  This conditioner makes my hair very soft without weighing it down! I was afraid it'd make my roots more oily and weight them down, but it doesn't one bit! My hair is colored, and it hasn't faded out the color either! I'd highly recommend giving this a try! This review was collected as part of a ...   \n",
       "29862                                                                                                                                                                                                    This conditioner has become a staple in my hair regimen This review was collected as part of a promotion.   \n",
       "29941  It's very difficult to find a conditioner that's non-greasy. I found that this one (especially when used as part of the set) was hydrating and made my hair soft and shiny without that nasty greasy feeling. I received this product free from Influenster for testing purposes, but all opinions are m...   \n",
       "\n",
       "       reviews_rating  \n",
       "92                  4  \n",
       "96                  4  \n",
       "100                 4  \n",
       "106                 4  \n",
       "117                 4  \n",
       "...               ...  \n",
       "29818               5  \n",
       "29855               5  \n",
       "29858               5  \n",
       "29862               5  \n",
       "29941               5  \n",
       "\n",
       "[2410 rows x 3 columns]"
      ]
     },
     "execution_count": 19,
     "metadata": {},
     "output_type": "execute_result"
    }
   ],
   "source": [
    "df_main[(df_main[\"user_sentiment\"]==0) & (df_main[\"reviews_rating\"]>=4)][[\"reviews_title\",\"reviews_text\", \"reviews_rating\"]]"
   ]
  },
  {
   "cell_type": "code",
   "execution_count": null,
   "id": "07097137",
   "metadata": {},
   "outputs": [],
   "source": []
  },
  {
   "cell_type": "code",
   "execution_count": 20,
   "id": "d967d69a",
   "metadata": {},
   "outputs": [
    {
     "data": {
      "text/html": [
       "<div>\n",
       "<style scoped>\n",
       "    .dataframe tbody tr th:only-of-type {\n",
       "        vertical-align: middle;\n",
       "    }\n",
       "\n",
       "    .dataframe tbody tr th {\n",
       "        vertical-align: top;\n",
       "    }\n",
       "\n",
       "    .dataframe thead th {\n",
       "        text-align: right;\n",
       "    }\n",
       "</style>\n",
       "<table border=\"1\" class=\"dataframe\">\n",
       "  <thead>\n",
       "    <tr style=\"text-align: right;\">\n",
       "      <th>reviews_rating</th>\n",
       "      <th>1</th>\n",
       "      <th>2</th>\n",
       "      <th>3</th>\n",
       "      <th>4</th>\n",
       "      <th>5</th>\n",
       "      <th>All</th>\n",
       "    </tr>\n",
       "    <tr>\n",
       "      <th>user_sentiment</th>\n",
       "      <th></th>\n",
       "      <th></th>\n",
       "      <th></th>\n",
       "      <th></th>\n",
       "      <th></th>\n",
       "      <th></th>\n",
       "    </tr>\n",
       "  </thead>\n",
       "  <tbody>\n",
       "    <tr>\n",
       "      <th>0</th>\n",
       "      <td>597</td>\n",
       "      <td>140</td>\n",
       "      <td>220</td>\n",
       "      <td>550</td>\n",
       "      <td>1860</td>\n",
       "      <td>3367</td>\n",
       "    </tr>\n",
       "    <tr>\n",
       "      <th>1</th>\n",
       "      <td>787</td>\n",
       "      <td>280</td>\n",
       "      <td>1125</td>\n",
       "      <td>5470</td>\n",
       "      <td>18970</td>\n",
       "      <td>26632</td>\n",
       "    </tr>\n",
       "    <tr>\n",
       "      <th>All</th>\n",
       "      <td>1384</td>\n",
       "      <td>420</td>\n",
       "      <td>1345</td>\n",
       "      <td>6020</td>\n",
       "      <td>20830</td>\n",
       "      <td>29999</td>\n",
       "    </tr>\n",
       "  </tbody>\n",
       "</table>\n",
       "</div>"
      ],
      "text/plain": [
       "reviews_rating     1    2     3     4      5    All\n",
       "user_sentiment                                     \n",
       "0                597  140   220   550   1860   3367\n",
       "1                787  280  1125  5470  18970  26632\n",
       "All             1384  420  1345  6020  20830  29999"
      ]
     },
     "execution_count": 20,
     "metadata": {},
     "output_type": "execute_result"
    }
   ],
   "source": [
    "pd.crosstab(df_main[\"user_sentiment\"], df_main[\"reviews_rating\"], margins=True)"
   ]
  },
  {
   "cell_type": "markdown",
   "id": "35388256",
   "metadata": {},
   "source": [
    "### Observation:\n",
    "    As per the above results, there looks to be mismtach between review_rating and user_sentiment. there are records that have higher user rating but user sentiment is negative and lower user rating but user sentiment is positive. We can either clean up those records or update the target column to the correct user sentiment, so that will be helpful for modelling. Here, updating the user_sentiment to 0 (but was 1) when the reviews_rating is less than 4, and updating the user_sentiment to 1(but was 0), when the reviews_rating is greater than or equal to 4"
   ]
  },
  {
   "cell_type": "code",
   "execution_count": null,
   "id": "f4bf270a",
   "metadata": {},
   "outputs": [],
   "source": []
  },
  {
   "cell_type": "code",
   "execution_count": 21,
   "id": "ca7813ad",
   "metadata": {},
   "outputs": [],
   "source": [
    "df_main.loc[(df_main[\"user_sentiment\"]==1) & (df_main[\"reviews_rating\"]<4), \"user_sentiment\"] = 0"
   ]
  },
  {
   "cell_type": "code",
   "execution_count": 22,
   "id": "978c35cf",
   "metadata": {},
   "outputs": [],
   "source": [
    "df_main.loc[(df_main[\"user_sentiment\"]==0) & (df_main[\"reviews_rating\"]>=4), \"user_sentiment\"] = 1"
   ]
  },
  {
   "cell_type": "code",
   "execution_count": 23,
   "id": "6cd7ee17",
   "metadata": {},
   "outputs": [
    {
     "data": {
      "text/html": [
       "<div>\n",
       "<style scoped>\n",
       "    .dataframe tbody tr th:only-of-type {\n",
       "        vertical-align: middle;\n",
       "    }\n",
       "\n",
       "    .dataframe tbody tr th {\n",
       "        vertical-align: top;\n",
       "    }\n",
       "\n",
       "    .dataframe thead th {\n",
       "        text-align: right;\n",
       "    }\n",
       "</style>\n",
       "<table border=\"1\" class=\"dataframe\">\n",
       "  <thead>\n",
       "    <tr style=\"text-align: right;\">\n",
       "      <th>reviews_rating</th>\n",
       "      <th>1</th>\n",
       "      <th>2</th>\n",
       "      <th>3</th>\n",
       "      <th>4</th>\n",
       "      <th>5</th>\n",
       "      <th>All</th>\n",
       "    </tr>\n",
       "    <tr>\n",
       "      <th>user_sentiment</th>\n",
       "      <th></th>\n",
       "      <th></th>\n",
       "      <th></th>\n",
       "      <th></th>\n",
       "      <th></th>\n",
       "      <th></th>\n",
       "    </tr>\n",
       "  </thead>\n",
       "  <tbody>\n",
       "    <tr>\n",
       "      <th>0</th>\n",
       "      <td>1384</td>\n",
       "      <td>420</td>\n",
       "      <td>1345</td>\n",
       "      <td>0</td>\n",
       "      <td>0</td>\n",
       "      <td>3149</td>\n",
       "    </tr>\n",
       "    <tr>\n",
       "      <th>1</th>\n",
       "      <td>0</td>\n",
       "      <td>0</td>\n",
       "      <td>0</td>\n",
       "      <td>6020</td>\n",
       "      <td>20830</td>\n",
       "      <td>26850</td>\n",
       "    </tr>\n",
       "    <tr>\n",
       "      <th>All</th>\n",
       "      <td>1384</td>\n",
       "      <td>420</td>\n",
       "      <td>1345</td>\n",
       "      <td>6020</td>\n",
       "      <td>20830</td>\n",
       "      <td>29999</td>\n",
       "    </tr>\n",
       "  </tbody>\n",
       "</table>\n",
       "</div>"
      ],
      "text/plain": [
       "reviews_rating     1    2     3     4      5    All\n",
       "user_sentiment                                     \n",
       "0               1384  420  1345     0      0   3149\n",
       "1                  0    0     0  6020  20830  26850\n",
       "All             1384  420  1345  6020  20830  29999"
      ]
     },
     "execution_count": 23,
     "metadata": {},
     "output_type": "execute_result"
    }
   ],
   "source": [
    "pd.crosstab(df_main[\"user_sentiment\"], df_main[\"reviews_rating\"], margins=True)"
   ]
  },
  {
   "cell_type": "markdown",
   "id": "1730c91d",
   "metadata": {},
   "source": [
    "### Observation :\n",
    "from the above table, we can see that we don't have mismatch between the reviews_rating and user_sentiment"
   ]
  },
  {
   "cell_type": "code",
   "execution_count": 24,
   "id": "cf29b172",
   "metadata": {},
   "outputs": [
    {
     "data": {
      "text/plain": [
       "1    26850\n",
       "0     3149\n",
       "Name: user_sentiment, dtype: int64"
      ]
     },
     "execution_count": 24,
     "metadata": {},
     "output_type": "execute_result"
    }
   ],
   "source": [
    "df_main[\"user_sentiment\"].value_counts()"
   ]
  },
  {
   "cell_type": "code",
   "execution_count": 25,
   "id": "f8c9e4b0",
   "metadata": {},
   "outputs": [
    {
     "data": {
      "text/plain": [
       "Clorox                   10585\n",
       "Warner Home Video         3325\n",
       "Disney                    1199\n",
       "L'oreal Paris             1186\n",
       "FOX                        887\n",
       "                         ...  \n",
       "Pacific Natural Foods        1\n",
       "Noosa                        1\n",
       "Southern Enterprises         1\n",
       "SLOAN VALVE COMPANY          1\n",
       "Universal Music              1\n",
       "Name: brand, Length: 214, dtype: int64"
      ]
     },
     "execution_count": 25,
     "metadata": {},
     "output_type": "execute_result"
    }
   ],
   "source": [
    "df_main[\"brand\"].value_counts()"
   ]
  },
  {
   "cell_type": "code",
   "execution_count": 26,
   "id": "57caebe2",
   "metadata": {},
   "outputs": [
    {
     "data": {
      "text/plain": [
       "<AxesSubplot:xlabel='brand'>"
      ]
     },
     "execution_count": 26,
     "metadata": {},
     "output_type": "execute_result"
    },
    {
     "data": {
      "image/png": "[encoded data removed]",
      "text/plain": [
       "<Figure size 432x288 with 1 Axes>"
      ]
     },
     "metadata": {
      "needs_background": "light"
     },
     "output_type": "display_data"
    }
   ],
   "source": [
    "# Filter the top 10 brands among the positive sentiments\n",
    "df_main[df_main['user_sentiment']==1].groupby('brand')['brand'].count().sort_values(ascending=False)[:10].plot(kind='bar',color='g')"
   ]
  },
  {
   "cell_type": "code",
   "execution_count": null,
   "id": "4bc41dbc",
   "metadata": {},
   "outputs": [],
   "source": []
  },
  {
   "cell_type": "code",
   "execution_count": 27,
   "id": "022c84a7",
   "metadata": {},
   "outputs": [
    {
     "data": {
      "text/plain": [
       "<AxesSubplot:xlabel='brand'>"
      ]
     },
     "execution_count": 27,
     "metadata": {},
     "output_type": "execute_result"
    },
    {
     "data": {
      "image/png": "[encoded data removed]",
      "text/plain": [
       "<Figure size 432x288 with 1 Axes>"
      ]
     },
     "metadata": {
      "needs_background": "light"
     },
     "output_type": "display_data"
    }
   ],
   "source": [
    "# Filter the top 10 brands among the negative sentiments\n",
    "df_main[df_main['user_sentiment']==0].groupby('brand')['brand'].count().sort_values(ascending=False)[:10].plot(kind='bar', color='r')"
   ]
  },
  {
   "cell_type": "code",
   "execution_count": 28,
   "id": "ae9e1169",
   "metadata": {},
   "outputs": [],
   "source": [
    "# Group the dataframe by product id and view the # of pos review / neg reviews count\n",
    "df_custom =  df_main.groupby('id', as_index=False)['user_sentiment'].count()\n",
    "df_custom[\"pos_review_count\"] =  df_custom.id.apply(lambda id: filter_products(id, 1))\n",
    "df_custom[\"neg_review_count\"] =  df_custom.id.apply(lambda id: filter_products(id, 0))"
   ]
  },
  {
   "cell_type": "code",
   "execution_count": 29,
   "id": "ab87a929",
   "metadata": {},
   "outputs": [
    {
     "data": {
      "text/html": [
       "<div>\n",
       "<style scoped>\n",
       "    .dataframe tbody tr th:only-of-type {\n",
       "        vertical-align: middle;\n",
       "    }\n",
       "\n",
       "    .dataframe tbody tr th {\n",
       "        vertical-align: top;\n",
       "    }\n",
       "\n",
       "    .dataframe thead th {\n",
       "        text-align: right;\n",
       "    }\n",
       "</style>\n",
       "<table border=\"1\" class=\"dataframe\">\n",
       "  <thead>\n",
       "    <tr style=\"text-align: right;\">\n",
       "      <th></th>\n",
       "      <th>id</th>\n",
       "      <th>user_sentiment</th>\n",
       "      <th>pos_review_count</th>\n",
       "      <th>neg_review_count</th>\n",
       "    </tr>\n",
       "  </thead>\n",
       "  <tbody>\n",
       "    <tr>\n",
       "      <th>0</th>\n",
       "      <td>AV13O1A8GV-KLJ3akUyj</td>\n",
       "      <td>1</td>\n",
       "      <td>1</td>\n",
       "      <td>0</td>\n",
       "    </tr>\n",
       "    <tr>\n",
       "      <th>1</th>\n",
       "      <td>AV14LG0R-jtxr-f38QfS</td>\n",
       "      <td>2</td>\n",
       "      <td>2</td>\n",
       "      <td>0</td>\n",
       "    </tr>\n",
       "    <tr>\n",
       "      <th>2</th>\n",
       "      <td>AV16khLE-jtxr-f38VFn</td>\n",
       "      <td>27</td>\n",
       "      <td>10</td>\n",
       "      <td>17</td>\n",
       "    </tr>\n",
       "    <tr>\n",
       "      <th>3</th>\n",
       "      <td>AV1YGDqsGV-KLJ3adc-O</td>\n",
       "      <td>348</td>\n",
       "      <td>274</td>\n",
       "      <td>74</td>\n",
       "    </tr>\n",
       "    <tr>\n",
       "      <th>4</th>\n",
       "      <td>AV1YIch7GV-KLJ3addeG</td>\n",
       "      <td>1</td>\n",
       "      <td>1</td>\n",
       "      <td>0</td>\n",
       "    </tr>\n",
       "    <tr>\n",
       "      <th>5</th>\n",
       "      <td>AV1YlENIglJLPUi8IHsX</td>\n",
       "      <td>17</td>\n",
       "      <td>14</td>\n",
       "      <td>3</td>\n",
       "    </tr>\n",
       "    <tr>\n",
       "      <th>6</th>\n",
       "      <td>AV1YmBrdGV-KLJ3adewb</td>\n",
       "      <td>18</td>\n",
       "      <td>17</td>\n",
       "      <td>1</td>\n",
       "    </tr>\n",
       "    <tr>\n",
       "      <th>7</th>\n",
       "      <td>AV1YmDL9vKc47QAVgr7_</td>\n",
       "      <td>89</td>\n",
       "      <td>74</td>\n",
       "      <td>15</td>\n",
       "    </tr>\n",
       "    <tr>\n",
       "      <th>8</th>\n",
       "      <td>AV1Ymf_rglJLPUi8II2v</td>\n",
       "      <td>34</td>\n",
       "      <td>34</td>\n",
       "      <td>0</td>\n",
       "    </tr>\n",
       "    <tr>\n",
       "      <th>9</th>\n",
       "      <td>AV1Yn94nvKc47QAVgtst</td>\n",
       "      <td>25</td>\n",
       "      <td>24</td>\n",
       "      <td>1</td>\n",
       "    </tr>\n",
       "  </tbody>\n",
       "</table>\n",
       "</div>"
      ],
      "text/plain": [
       "                     id  user_sentiment  pos_review_count  neg_review_count\n",
       "0  AV13O1A8GV-KLJ3akUyj               1                 1                 0\n",
       "1  AV14LG0R-jtxr-f38QfS               2                 2                 0\n",
       "2  AV16khLE-jtxr-f38VFn              27                10                17\n",
       "3  AV1YGDqsGV-KLJ3adc-O             348               274                74\n",
       "4  AV1YIch7GV-KLJ3addeG               1                 1                 0\n",
       "5  AV1YlENIglJLPUi8IHsX              17                14                 3\n",
       "6  AV1YmBrdGV-KLJ3adewb              18                17                 1\n",
       "7  AV1YmDL9vKc47QAVgr7_              89                74                15\n",
       "8  AV1Ymf_rglJLPUi8II2v              34                34                 0\n",
       "9  AV1Yn94nvKc47QAVgtst              25                24                 1"
      ]
     },
     "execution_count": 29,
     "metadata": {},
     "output_type": "execute_result"
    }
   ],
   "source": [
    "df_custom.head(10)"
   ]
  },
  {
   "cell_type": "code",
   "execution_count": 30,
   "id": "378cfa81",
   "metadata": {},
   "outputs": [
    {
     "data": {
      "text/html": [
       "<div>\n",
       "<style scoped>\n",
       "    .dataframe tbody tr th:only-of-type {\n",
       "        vertical-align: middle;\n",
       "    }\n",
       "\n",
       "    .dataframe tbody tr th {\n",
       "        vertical-align: top;\n",
       "    }\n",
       "\n",
       "    .dataframe thead th {\n",
       "        text-align: right;\n",
       "    }\n",
       "</style>\n",
       "<table border=\"1\" class=\"dataframe\">\n",
       "  <thead>\n",
       "    <tr style=\"text-align: right;\">\n",
       "      <th></th>\n",
       "      <th>id</th>\n",
       "      <th>user_sentiment</th>\n",
       "      <th>pos_review_count</th>\n",
       "      <th>neg_review_count</th>\n",
       "      <th>sentiment %</th>\n",
       "    </tr>\n",
       "  </thead>\n",
       "  <tbody>\n",
       "    <tr>\n",
       "      <th>0</th>\n",
       "      <td>AV13O1A8GV-KLJ3akUyj</td>\n",
       "      <td>1</td>\n",
       "      <td>1</td>\n",
       "      <td>0</td>\n",
       "      <td>100.0</td>\n",
       "    </tr>\n",
       "    <tr>\n",
       "      <th>82</th>\n",
       "      <td>AVpf-lMV1cnluZ0-ub0_</td>\n",
       "      <td>4</td>\n",
       "      <td>4</td>\n",
       "      <td>0</td>\n",
       "      <td>100.0</td>\n",
       "    </tr>\n",
       "    <tr>\n",
       "      <th>138</th>\n",
       "      <td>AVpfE5UF1cnluZ0-dY1N</td>\n",
       "      <td>2</td>\n",
       "      <td>2</td>\n",
       "      <td>0</td>\n",
       "      <td>100.0</td>\n",
       "    </tr>\n",
       "    <tr>\n",
       "      <th>141</th>\n",
       "      <td>AVpfEqFbilAPnD_xUV28</td>\n",
       "      <td>4</td>\n",
       "      <td>4</td>\n",
       "      <td>0</td>\n",
       "      <td>100.0</td>\n",
       "    </tr>\n",
       "    <tr>\n",
       "      <th>143</th>\n",
       "      <td>AVpfErGsLJeJML431yRX</td>\n",
       "      <td>1</td>\n",
       "      <td>1</td>\n",
       "      <td>0</td>\n",
       "      <td>100.0</td>\n",
       "    </tr>\n",
       "    <tr>\n",
       "      <th>145</th>\n",
       "      <td>AVpfFGqP1cnluZ0-ddjG</td>\n",
       "      <td>1</td>\n",
       "      <td>1</td>\n",
       "      <td>0</td>\n",
       "      <td>100.0</td>\n",
       "    </tr>\n",
       "    <tr>\n",
       "      <th>149</th>\n",
       "      <td>AVpfGRUHilAPnD_xU5nU</td>\n",
       "      <td>5</td>\n",
       "      <td>5</td>\n",
       "      <td>0</td>\n",
       "      <td>100.0</td>\n",
       "    </tr>\n",
       "    <tr>\n",
       "      <th>150</th>\n",
       "      <td>AVpfGTRQLJeJML432WYA</td>\n",
       "      <td>8</td>\n",
       "      <td>8</td>\n",
       "      <td>0</td>\n",
       "      <td>100.0</td>\n",
       "    </tr>\n",
       "    <tr>\n",
       "      <th>151</th>\n",
       "      <td>AVpfG_ujilAPnD_xVI8L</td>\n",
       "      <td>8</td>\n",
       "      <td>8</td>\n",
       "      <td>0</td>\n",
       "      <td>100.0</td>\n",
       "    </tr>\n",
       "    <tr>\n",
       "      <th>153</th>\n",
       "      <td>AVpfH2Rx1cnluZ0-eYtu</td>\n",
       "      <td>3</td>\n",
       "      <td>3</td>\n",
       "      <td>0</td>\n",
       "      <td>100.0</td>\n",
       "    </tr>\n",
       "    <tr>\n",
       "      <th>157</th>\n",
       "      <td>AVpfIGFeLJeJML4328YR</td>\n",
       "      <td>5</td>\n",
       "      <td>5</td>\n",
       "      <td>0</td>\n",
       "      <td>100.0</td>\n",
       "    </tr>\n",
       "    <tr>\n",
       "      <th>158</th>\n",
       "      <td>AVpfIN84LJeJML432_D9</td>\n",
       "      <td>1</td>\n",
       "      <td>1</td>\n",
       "      <td>0</td>\n",
       "      <td>100.0</td>\n",
       "    </tr>\n",
       "    <tr>\n",
       "      <th>159</th>\n",
       "      <td>AVpfIOoV1cnluZ0-ehGp</td>\n",
       "      <td>5</td>\n",
       "      <td>5</td>\n",
       "      <td>0</td>\n",
       "      <td>100.0</td>\n",
       "    </tr>\n",
       "    <tr>\n",
       "      <th>161</th>\n",
       "      <td>AVpfIvbgLJeJML433Kph</td>\n",
       "      <td>23</td>\n",
       "      <td>23</td>\n",
       "      <td>0</td>\n",
       "      <td>100.0</td>\n",
       "    </tr>\n",
       "    <tr>\n",
       "      <th>166</th>\n",
       "      <td>AVpfKa3uilAPnD_xWSGx</td>\n",
       "      <td>1</td>\n",
       "      <td>1</td>\n",
       "      <td>0</td>\n",
       "      <td>100.0</td>\n",
       "    </tr>\n",
       "    <tr>\n",
       "      <th>168</th>\n",
       "      <td>AVpfKhuv1cnluZ0-fSVr</td>\n",
       "      <td>1</td>\n",
       "      <td>1</td>\n",
       "      <td>0</td>\n",
       "      <td>100.0</td>\n",
       "    </tr>\n",
       "    <tr>\n",
       "      <th>169</th>\n",
       "      <td>AVpfL-z9ilAPnD_xWzE_</td>\n",
       "      <td>2</td>\n",
       "      <td>2</td>\n",
       "      <td>0</td>\n",
       "      <td>100.0</td>\n",
       "    </tr>\n",
       "    <tr>\n",
       "      <th>137</th>\n",
       "      <td>AVpfDiTDLJeJML431Y21</td>\n",
       "      <td>4</td>\n",
       "      <td>4</td>\n",
       "      <td>0</td>\n",
       "      <td>100.0</td>\n",
       "    </tr>\n",
       "    <tr>\n",
       "      <th>1</th>\n",
       "      <td>AV14LG0R-jtxr-f38QfS</td>\n",
       "      <td>2</td>\n",
       "      <td>2</td>\n",
       "      <td>0</td>\n",
       "      <td>100.0</td>\n",
       "    </tr>\n",
       "    <tr>\n",
       "      <th>134</th>\n",
       "      <td>AVpfD_NRilAPnD_xUG56</td>\n",
       "      <td>2</td>\n",
       "      <td>2</td>\n",
       "      <td>0</td>\n",
       "      <td>100.0</td>\n",
       "    </tr>\n",
       "  </tbody>\n",
       "</table>\n",
       "</div>"
      ],
      "text/plain": [
       "                       id  user_sentiment  pos_review_count  neg_review_count  \\\n",
       "0    AV13O1A8GV-KLJ3akUyj               1                 1                 0   \n",
       "82   AVpf-lMV1cnluZ0-ub0_               4                 4                 0   \n",
       "138  AVpfE5UF1cnluZ0-dY1N               2                 2                 0   \n",
       "141  AVpfEqFbilAPnD_xUV28               4                 4                 0   \n",
       "143  AVpfErGsLJeJML431yRX               1                 1                 0   \n",
       "145  AVpfFGqP1cnluZ0-ddjG               1                 1                 0   \n",
       "149  AVpfGRUHilAPnD_xU5nU               5                 5                 0   \n",
       "150  AVpfGTRQLJeJML432WYA               8                 8                 0   \n",
       "151  AVpfG_ujilAPnD_xVI8L               8                 8                 0   \n",
       "153  AVpfH2Rx1cnluZ0-eYtu               3                 3                 0   \n",
       "157  AVpfIGFeLJeJML4328YR               5                 5                 0   \n",
       "158  AVpfIN84LJeJML432_D9               1                 1                 0   \n",
       "159  AVpfIOoV1cnluZ0-ehGp               5                 5                 0   \n",
       "161  AVpfIvbgLJeJML433Kph              23                23                 0   \n",
       "166  AVpfKa3uilAPnD_xWSGx               1                 1                 0   \n",
       "168  AVpfKhuv1cnluZ0-fSVr               1                 1                 0   \n",
       "169  AVpfL-z9ilAPnD_xWzE_               2                 2                 0   \n",
       "137  AVpfDiTDLJeJML431Y21               4                 4                 0   \n",
       "1    AV14LG0R-jtxr-f38QfS               2                 2                 0   \n",
       "134  AVpfD_NRilAPnD_xUG56               2                 2                 0   \n",
       "\n",
       "     sentiment %  \n",
       "0          100.0  \n",
       "82         100.0  \n",
       "138        100.0  \n",
       "141        100.0  \n",
       "143        100.0  \n",
       "145        100.0  \n",
       "149        100.0  \n",
       "150        100.0  \n",
       "151        100.0  \n",
       "153        100.0  \n",
       "157        100.0  \n",
       "158        100.0  \n",
       "159        100.0  \n",
       "161        100.0  \n",
       "166        100.0  \n",
       "168        100.0  \n",
       "169        100.0  \n",
       "137        100.0  \n",
       "1          100.0  \n",
       "134        100.0  "
      ]
     },
     "execution_count": 30,
     "metadata": {},
     "output_type": "execute_result"
    }
   ],
   "source": [
    "# Sort the product by sentiment % - postive reviews / total number of reviews\n",
    "df_custom['sentiment %'] = np.round((df_custom['pos_review_count']/df_custom['user_sentiment'])*100,2)\n",
    "df_custom.sort_values(by='sentiment %', ascending=False)[:20]"
   ]
  },
  {
   "cell_type": "code",
   "execution_count": 31,
   "id": "b62380eb",
   "metadata": {},
   "outputs": [
    {
     "data": {
      "text/plain": [
       "mike                 41\n",
       "byamazon customer    41\n",
       "chris                32\n",
       "lisa                 16\n",
       "sandy                15\n",
       "tony                 15\n",
       "rick                 15\n",
       "dave                 14\n",
       "john                 14\n",
       "jojo                 13\n",
       "Name: reviews_username, dtype: int64"
      ]
     },
     "execution_count": 31,
     "metadata": {},
     "output_type": "execute_result"
    }
   ],
   "source": [
    "# Let's find out the most common users.\n",
    "df_main[\"reviews_username\"].value_counts()[:10]"
   ]
  },
  {
   "cell_type": "code",
   "execution_count": 32,
   "id": "36138dd7",
   "metadata": {},
   "outputs": [
    {
     "data": {
      "text/plain": [
       "Clorox                                8546\n",
       "Test                                  3325\n",
       "AmazonUs/CLOO7                        2039\n",
       "L'oreal Paris                         1232\n",
       "Walt Disney                           1142\n",
       "                                      ... \n",
       "Pacific Foods of Oregon, Inc.            1\n",
       "Unfi                                     1\n",
       "Herr's                                   1\n",
       "Southern Enterprises                     1\n",
       "Universal Music Group / Cash Money       1\n",
       "Name: manufacturer, Length: 227, dtype: int64"
      ]
     },
     "execution_count": 32,
     "metadata": {},
     "output_type": "execute_result"
    }
   ],
   "source": [
    "df_main[\"manufacturer\"].value_counts()"
   ]
  },
  {
   "cell_type": "code",
   "execution_count": 33,
   "id": "097d8f6e",
   "metadata": {},
   "outputs": [
    {
     "data": {
      "text/plain": [
       "<AxesSubplot:xlabel='reviews_username'>"
      ]
     },
     "execution_count": 33,
     "metadata": {},
     "output_type": "execute_result"
    },
    {
     "data": {
      "image/png": "[encoded data removed]",
      "text/plain": [
       "<Figure size 432x288 with 1 Axes>"
      ]
     },
     "metadata": {
      "needs_background": "light"
     },
     "output_type": "display_data"
    }
   ],
   "source": [
    "#plot the customers by 'positive user sentiment'\n",
    "df_main[df_main['user_sentiment']==1].groupby('reviews_username')['reviews_username'].count().sort_values(ascending=False)[:10].plot(kind='bar', color='g')"
   ]
  },
  {
   "cell_type": "code",
   "execution_count": 34,
   "id": "dd822a38",
   "metadata": {},
   "outputs": [
    {
     "data": {
      "text/plain": [
       "<AxesSubplot:xlabel='reviews_username'>"
      ]
     },
     "execution_count": 34,
     "metadata": {},
     "output_type": "execute_result"
    },
    {
     "data": {
      "image/png": "[encoded data removed]",
      "text/plain": [
       "<Figure size 432x288 with 1 Axes>"
      ]
     },
     "metadata": {
      "needs_background": "light"
     },
     "output_type": "display_data"
    }
   ],
   "source": [
    "#plot the customers by 'negative user sentiment'\n",
    "df_main[df_main['user_sentiment']==0].groupby('reviews_username')['reviews_username'].count().sort_values(ascending=False)[:10].plot(kind='bar', color='r')"
   ]
  },
  {
   "cell_type": "code",
   "execution_count": 35,
   "id": "91758692",
   "metadata": {},
   "outputs": [],
   "source": [
    "# Removing nan/null from username\n",
    "df_main = df_main[~df_main.reviews_username.isnull()]"
   ]
  },
  {
   "cell_type": "code",
   "execution_count": 36,
   "id": "dca9c167",
   "metadata": {},
   "outputs": [],
   "source": [
    "#Let's combine the reviews_text and reviews_title for better analysis\n",
    "df_main[\"reviews_title\"] = df_main[\"reviews_title\"].fillna('')\n",
    "df_main[\"reviews_full_text\"] = df_main[['reviews_title', 'reviews_text']].agg('. '.join, axis=1).str.lstrip('. ')"
   ]
  },
  {
   "cell_type": "code",
   "execution_count": 37,
   "id": "06251276",
   "metadata": {},
   "outputs": [
    {
     "data": {
      "text/plain": [
       "id                          0\n",
       "brand                       0\n",
       "categories                  0\n",
       "manufacturer              141\n",
       "name                        0\n",
       "reviews_date               40\n",
       "reviews_didPurchase     14005\n",
       "reviews_doRecommend      2541\n",
       "reviews_rating              0\n",
       "reviews_text                0\n",
       "reviews_title               0\n",
       "reviews_userCity        28036\n",
       "reviews_userProvince    29770\n",
       "reviews_username            0\n",
       "user_sentiment              0\n",
       "reviews_full_text           0\n",
       "dtype: int64"
      ]
     },
     "execution_count": 37,
     "metadata": {},
     "output_type": "execute_result"
    }
   ],
   "source": [
    "# Get the missing row cout for each of the columns\n",
    "calcMissingRowCount(df_main)"
   ]
  },
  {
   "cell_type": "markdown",
   "id": "fffadb84",
   "metadata": {},
   "source": [
    "### Observation:\n",
    "    Required columns for reviews_rating, reviews_text, user_sentiment,reviews_username doesn't have null/na values"
   ]
  },
  {
   "cell_type": "markdown",
   "id": "37aef5a7",
   "metadata": {},
   "source": [
    "## B - Text Preprocessing for Modelling"
   ]
  },
  {
   "cell_type": "code",
   "execution_count": 38,
   "id": "fde2313e",
   "metadata": {},
   "outputs": [
    {
     "data": {
      "text/html": [
       "<div>\n",
       "<style scoped>\n",
       "    .dataframe tbody tr th:only-of-type {\n",
       "        vertical-align: middle;\n",
       "    }\n",
       "\n",
       "    .dataframe tbody tr th {\n",
       "        vertical-align: top;\n",
       "    }\n",
       "\n",
       "    .dataframe thead th {\n",
       "        text-align: right;\n",
       "    }\n",
       "</style>\n",
       "<table border=\"1\" class=\"dataframe\">\n",
       "  <thead>\n",
       "    <tr style=\"text-align: right;\">\n",
       "      <th></th>\n",
       "      <th>reviews_full_text</th>\n",
       "      <th>user_sentiment</th>\n",
       "    </tr>\n",
       "  </thead>\n",
       "  <tbody>\n",
       "    <tr>\n",
       "      <th>19381</th>\n",
       "      <td>LOVE!. I have a one year old - these things are amazing for everything from cleaning up spills to wiping off toys. This review was collected as part of a promotion.</td>\n",
       "      <td>1</td>\n",
       "    </tr>\n",
       "    <tr>\n",
       "      <th>22940</th>\n",
       "      <td>Boring. Where was Godzilla? The movie barely had Godzilla in it. Not worthy.</td>\n",
       "      <td>0</td>\n",
       "    </tr>\n",
       "    <tr>\n",
       "      <th>13325</th>\n",
       "      <td>Clorox for the wash. Excellent products!!! Have tried the store brand of Clorox for the wash and was very disappointed!! Will never use anything but the real Clorox ever again!! This review was collected as part of a promotion.</td>\n",
       "      <td>1</td>\n",
       "    </tr>\n",
       "    <tr>\n",
       "      <th>28177</th>\n",
       "      <td>Great movie!. Such a cute concept! Disney does make awesome movies! My 4 year old loves just as much as I do!</td>\n",
       "      <td>1</td>\n",
       "    </tr>\n",
       "    <tr>\n",
       "      <th>24724</th>\n",
       "      <td>movie. Love the movie. Lost the first copy I had. Very pleased best buy had it in stock.</td>\n",
       "      <td>1</td>\n",
       "    </tr>\n",
       "    <tr>\n",
       "      <th>22508</th>\n",
       "      <td>Please Bring Back The Old Formula. It pains me to write a bad review since I used to swear by this product. It used to be the only shampoo and conditioner that actually solved my dry scalp and dandruff and would leave my hair smelling amazing. I used this product for almost 3 years. Ever since t...</td>\n",
       "      <td>0</td>\n",
       "    </tr>\n",
       "    <tr>\n",
       "      <th>5223</th>\n",
       "      <td>great price. first and foremost, unlike the other reviews you might read, this does NOT come with all the digital codes. For me, that mattered. I was bummed to see it only came with a code for retribution but at this price point, you really can't argue. All five movies are included. The movies p...</td>\n",
       "      <td>1</td>\n",
       "    </tr>\n",
       "    <tr>\n",
       "      <th>2818</th>\n",
       "      <td>Good movie. Great movie that continues the story. Very funny as the first one was.</td>\n",
       "      <td>1</td>\n",
       "    </tr>\n",
       "    <tr>\n",
       "      <th>20772</th>\n",
       "      <td>Love this soap. Can't find it anywhere!. I just used the last of the one bottle that I found a year or so ago and hid away. I have looked everywhere and cannot find this hand soap. I love the fragrance. My mom always loved Jergens lotion and I guess because she always used it, that cherry almond...</td>\n",
       "      <td>1</td>\n",
       "    </tr>\n",
       "    <tr>\n",
       "      <th>28450</th>\n",
       "      <td>Waste of Money. Within weeks of using this rocking chair we started to have problems. The chair started to make really loud noises like it was going to fall apart. My husband took some graphite oil and that helped for about 4 weeks but now it seems we have to oil it about every two weeks which i...</td>\n",
       "      <td>0</td>\n",
       "    </tr>\n",
       "  </tbody>\n",
       "</table>\n",
       "</div>"
      ],
      "text/plain": [
       "                                                                                                                                                                                                                                                                                                 reviews_full_text  \\\n",
       "19381                                                                                                                                         LOVE!. I have a one year old - these things are amazing for everything from cleaning up spills to wiping off toys. This review was collected as part of a promotion.   \n",
       "22940                                                                                                                                                                                                                                 Boring. Where was Godzilla? The movie barely had Godzilla in it. Not worthy.   \n",
       "13325                                                                          Clorox for the wash. Excellent products!!! Have tried the store brand of Clorox for the wash and was very disappointed!! Will never use anything but the real Clorox ever again!! This review was collected as part of a promotion.   \n",
       "28177                                                                                                                                                                                                Great movie!. Such a cute concept! Disney does make awesome movies! My 4 year old loves just as much as I do!   \n",
       "24724                                                                                                                                                                                                                     movie. Love the movie. Lost the first copy I had. Very pleased best buy had it in stock.   \n",
       "22508  Please Bring Back The Old Formula. It pains me to write a bad review since I used to swear by this product. It used to be the only shampoo and conditioner that actually solved my dry scalp and dandruff and would leave my hair smelling amazing. I used this product for almost 3 years. Ever since t...   \n",
       "5223   great price. first and foremost, unlike the other reviews you might read, this does NOT come with all the digital codes. For me, that mattered. I was bummed to see it only came with a code for retribution but at this price point, you really can't argue. All five movies are included. The movies p...   \n",
       "2818                                                                                                                                                                                                                            Good movie. Great movie that continues the story. Very funny as the first one was.   \n",
       "20772  Love this soap. Can't find it anywhere!. I just used the last of the one bottle that I found a year or so ago and hid away. I have looked everywhere and cannot find this hand soap. I love the fragrance. My mom always loved Jergens lotion and I guess because she always used it, that cherry almond...   \n",
       "28450  Waste of Money. Within weeks of using this rocking chair we started to have problems. The chair started to make really loud noises like it was going to fall apart. My husband took some graphite oil and that helped for about 4 weeks but now it seems we have to oil it about every two weeks which i...   \n",
       "\n",
       "       user_sentiment  \n",
       "19381               1  \n",
       "22940               0  \n",
       "13325               1  \n",
       "28177               1  \n",
       "24724               1  \n",
       "22508               0  \n",
       "5223                1  \n",
       "2818                1  \n",
       "20772               1  \n",
       "28450               0  "
      ]
     },
     "execution_count": 38,
     "metadata": {},
     "output_type": "execute_result"
    }
   ],
   "source": [
    "df_main[[\"reviews_full_text\", \"user_sentiment\"]].sample(10)"
   ]
  },
  {
   "cell_type": "code",
   "execution_count": 39,
   "id": "5ffe2b49",
   "metadata": {},
   "outputs": [],
   "source": [
    "df_clean = df_main[['id','name', 'reviews_full_text', 'user_sentiment']]"
   ]
  },
  {
   "cell_type": "code",
   "execution_count": 40,
   "id": "783d272e",
   "metadata": {},
   "outputs": [],
   "source": [
    "df_clean[\"reviews_text\"] = df_clean.reviews_full_text.apply(lambda x: clean_text(x))"
   ]
  },
  {
   "cell_type": "code",
   "execution_count": 41,
   "id": "3b1ba6b7",
   "metadata": {},
   "outputs": [],
   "source": [
    "stop_words = set(stopwords.words('english'))\n",
    "\n"
   ]
  },
  {
   "cell_type": "code",
   "execution_count": 42,
   "id": "4294775a",
   "metadata": {},
   "outputs": [],
   "source": [
    "lemmatizer = WordNetLemmatizer()\n",
    "# Lemmatize the sentence\n",
    "def lemma_text(text):\n",
    "    word_pos_tags = nltk.pos_tag(word_tokenize(remove_stopword(text))) # Get position tags\n",
    "    # Map the position tag and lemmatize the word/token\n",
    "    words =[lemmatizer.lemmatize(tag[0], get_wordnet_pos(tag[1])) for idx, tag in enumerate(word_pos_tags)] \n",
    "    return \" \".join(words)"
   ]
  },
  {
   "cell_type": "code",
   "execution_count": null,
   "id": "8943e475",
   "metadata": {},
   "outputs": [],
   "source": [
    "df_clean[\"reviews_text_cleaned\"] = df_clean.reviews_text.apply(lambda x: lemma_text(x))"
   ]
  },
  {
   "cell_type": "code",
   "execution_count": null,
   "id": "3f9de01b",
   "metadata": {},
   "outputs": [],
   "source": [
    "df_clean.head()"
   ]
  },
  {
   "cell_type": "markdown",
   "id": "8e6eea18",
   "metadata": {},
   "source": [
    "### Observation:\n",
    "reviews_text is cleaned to remove stopwords, punctuations,numericals,whitespaces and lemma is derived."
   ]
  },
  {
   "cell_type": "code",
   "execution_count": null,
   "id": "e0ad58d6",
   "metadata": {},
   "outputs": [],
   "source": []
  },
  {
   "cell_type": "code",
   "execution_count": null,
   "id": "59590b17",
   "metadata": {},
   "outputs": [],
   "source": [
    "#Using a word cloud find the top 40 words by frequency among all the articles after processing the text\n",
    "from wordcloud import WordCloud\n",
    "wordcloud = WordCloud(stopwords=stop_words,max_words=200).generate(str(df_clean.reviews_text_cleaned))\n",
    "\n",
    "print(wordcloud)\n",
    "plt.figure(figsize= (10,10))\n",
    "plt.imshow(wordcloud)\n",
    "plt.axis('off')\n",
    "plt.show();"
   ]
  },
  {
   "cell_type": "code",
   "execution_count": null,
   "id": "25d6b818",
   "metadata": {},
   "outputs": [],
   "source": [
    "# Visualise the data according to the 'Review Text' character length\n",
    "plt.figure(figsize=(10,6))\n",
    "reviews_lens = [len(d) for d in df_clean.reviews_text_cleaned]\n",
    "plt.hist(reviews_lens, bins = 50)"
   ]
  },
  {
   "cell_type": "code",
   "execution_count": null,
   "id": "0329ee2f",
   "metadata": {},
   "outputs": [],
   "source": [
    "pos_reviews = df_clean[df_clean['user_sentiment']==1]\n",
    "getMostCommonWords(pos_reviews['reviews_text_cleaned'],10)"
   ]
  },
  {
   "cell_type": "code",
   "execution_count": null,
   "id": "0b301498",
   "metadata": {},
   "outputs": [],
   "source": [
    "neg_reviews = df_clean[df_clean['user_sentiment']==0]\n",
    "getMostCommonWords(neg_reviews['reviews_text_cleaned'],10)"
   ]
  },
  {
   "cell_type": "code",
   "execution_count": null,
   "id": "510e7c67",
   "metadata": {},
   "outputs": [],
   "source": [
    "# Print the top 10 words in the bigram frequency\n",
    "common_words = get_top_n_ngram(pos_reviews['reviews_text_cleaned'], 2, 10)\n",
    "pd.DataFrame(common_words)"
   ]
  },
  {
   "cell_type": "code",
   "execution_count": null,
   "id": "417e805e",
   "metadata": {},
   "outputs": [],
   "source": [
    "# Print the top 10 words in the bigram frequency\n",
    "common_words = get_top_n_ngram(neg_reviews['reviews_text_cleaned'], 2, 10)\n",
    "pd.DataFrame(common_words)"
   ]
  },
  {
   "cell_type": "code",
   "execution_count": null,
   "id": "06176343",
   "metadata": {},
   "outputs": [],
   "source": [
    "# Logic to find the top 10 trigram frequency among the reviews_text in the cleaned datafram(df_clean). \n",
    "common_words = get_top_n_ngram(df_clean.reviews_text_cleaned, 3, 10)\n",
    "df3 = pd.DataFrame(common_words, columns = ['trigram' , 'count'])\n",
    "plt.figure(figsize=[35,25])\n",
    "fig = sns.barplot(x=df3['trigram'], y=df3['count'])"
   ]
  },
  {
   "cell_type": "code",
   "execution_count": null,
   "id": "cdfe0343",
   "metadata": {},
   "outputs": [],
   "source": [
    "X = df_clean['reviews_text_cleaned']\n",
    "y = df_clean['user_sentiment']"
   ]
  },
  {
   "cell_type": "markdown",
   "id": "c31433ca",
   "metadata": {},
   "source": [
    "## C- Feature Extraction"
   ]
  },
  {
   "cell_type": "code",
   "execution_count": null,
   "id": "004b7ba1",
   "metadata": {},
   "outputs": [],
   "source": [
    "no_of_classes= len(pd.Series(y).value_counts())"
   ]
  },
  {
   "cell_type": "code",
   "execution_count": null,
   "id": "af0be921",
   "metadata": {},
   "outputs": [],
   "source": [
    "# Distribution of the target variable data in terms of proportions.\n",
    "for i in range(0,no_of_classes):\n",
    "    print(\"Percent of {0}s: \".format(i), round(100*pd.Series(y).value_counts()[i]/pd.Series(y).value_counts().sum(),2), \"%\")"
   ]
  },
  {
   "cell_type": "markdown",
   "id": "ae9cb734",
   "metadata": {},
   "source": [
    "### Observations:\n",
    "To Vectorize the data, using TF-IDF vectorizer method to dervie the features from the textual data\n",
    "\n",
    "As it's clearly a class-imbalance between positive and negative, let's do SMOTE oversampling technique before modelling"
   ]
  },
  {
   "cell_type": "code",
   "execution_count": null,
   "id": "8e67c950",
   "metadata": {},
   "outputs": [],
   "source": [
    "# Using TF-IDF vectorizer using the parameters to get 650 features.\n",
    "tfidf_vectorizer = TfidfVectorizer(stop_words='english', max_features=650, max_df=0.9, min_df=7, binary=True, \n",
    "                                   ngram_range=(1,2))\n",
    "X_train_tfidf = tfidf_vectorizer.fit_transform(df_clean['reviews_text_cleaned'])\n",
    "\n",
    "y= df_clean['user_sentiment']"
   ]
  },
  {
   "cell_type": "code",
   "execution_count": null,
   "id": "ffb3ccc3",
   "metadata": {},
   "outputs": [],
   "source": [
    "print(tfidf_vectorizer.get_feature_names_out())"
   ]
  },
  {
   "cell_type": "markdown",
   "id": "c06a968f",
   "metadata": {},
   "source": [
    "## Splitting into test and train"
   ]
  },
  {
   "cell_type": "code",
   "execution_count": null,
   "id": "d0ce6666",
   "metadata": {},
   "outputs": [],
   "source": [
    "\n",
    "from sklearn.model_selection  import train_test_split\n",
    "X_train, X_test, y_train, y_test = train_test_split(X_train_tfidf, y, random_state=42, test_size=0.25)"
   ]
  },
  {
   "cell_type": "markdown",
   "id": "9e32f3e6",
   "metadata": {},
   "source": [
    "## Class imbalance (using SMOTE)"
   ]
  },
  {
   "cell_type": "code",
   "execution_count": null,
   "id": "39c670c2",
   "metadata": {},
   "outputs": [],
   "source": [
    "counter = Counter(y_train)\n",
    "print('Before',counter)\n",
    "\n",
    "sm = SMOTE()\n",
    "\n",
    "# transform the dataset\n",
    "X_train, y_train = sm.fit_resample(X_train, y_train)\n",
    "\n",
    "counter = Counter(y_train)\n",
    "print('After',counter)"
   ]
  },
  {
   "cell_type": "markdown",
   "id": "505040c7",
   "metadata": {},
   "source": [
    "## Model Building"
   ]
  },
  {
   "cell_type": "code",
   "execution_count": null,
   "id": "27271b90",
   "metadata": {},
   "outputs": [],
   "source": [
    "class ModelBuilder:\n",
    "    def __init__(self, model, x_train, x_test, y_train, y_test):\n",
    "        self.model = model\n",
    "        self.x_train = x_train\n",
    "        self.x_test = x_test\n",
    "        self.y_train = y_train\n",
    "        self.y_test = y_test\n",
    "        \n",
    "        \n",
    "    def train_model(self):\n",
    "        self.model.fit(self.x_train,self.y_train)\n",
    "        return self.model.predict(self.x_test)\n",
    "    \n",
    "    def evaluate_model(self, y_pred_class):\n",
    "        print(\"\\n\")\n",
    "        print(\"*\"*30)\n",
    "        self.result_metrics = self.evaluate_metrics(y_pred_class)\n",
    "        print(\"*\"*30)\n",
    "        print(\"\\n\")\n",
    "        \n",
    "        self.classification_report(y_pred_class)\n",
    "        print(\"*\"*30)\n",
    "        print(\"\\n\")\n",
    "        self.confusion_matrix(y_pred_class)\n",
    "            \n",
    "        print(\"*\"*30)\n",
    "        print(\"\\n\")\n",
    "        \n",
    "        metrics.plot_roc_curve(self.model, self.x_test, self.y_test)\n",
    "        \n",
    "        return self.result_metrics\n",
    "        \n",
    "    def evaluate_metrics(self, y_pred_class):\n",
    "        result_metrics = [] \n",
    "        accuracy = metrics.accuracy_score(self.y_test, y_pred_class)\n",
    "        precision = metrics.precision_score(self.y_test, y_pred_class)\n",
    "        recall = metrics.recall_score(self.y_test, y_pred_class)\n",
    "        f1score = metrics.f1_score(self.y_test, y_pred_class)\n",
    "        y_pred_prob = self.model.predict_proba(self.x_test)[:,1]\n",
    "        roc_auc = metrics.roc_auc_score(self.y_test, y_pred_prob)\n",
    "        \n",
    "        print(f\"Accuracy is : {accuracy*100:.1f}%\")\n",
    "        print(f\"Precision is : {precision*100:.1f}%\")\n",
    "        print(f\"Recall is : {recall*100:.1f}%\")\n",
    "        print(f\"F1 Score is : {f1score*100:.1f}%\")\n",
    "        print(f\"Roc-Auc Score is:{roc_auc*100:.1f}%\")\n",
    "        \n",
    "        result_metrics.append(accuracy)\n",
    "        result_metrics.append(precision)\n",
    "        result_metrics.append(recall)\n",
    "        result_metrics.append(f1score)\n",
    "        result_metrics.append(roc_auc)\n",
    "        return result_metrics\n",
    "        \n",
    "    def confusion_matrix(self, y_pred_class):\n",
    "        confusion_matrix = metrics.confusion_matrix(self.y_test, y_pred_class)\n",
    "        self.plot_confusion_matrix(confusion_matrix,[0,1])\n",
    "        \n",
    "        \n",
    "    def plot_confusion_matrix(self, data, labels):\n",
    "        sns.set(color_codes=True)\n",
    "        plt.title(\"Confusion Matrix\")\n",
    "        ax = sns.heatmap(data/np.sum(data), annot=True, cmap=\"Blues\", fmt=\".2%\")\n",
    " \n",
    "        ax.set_xticklabels(labels)\n",
    "        ax.set_yticklabels(labels)\n",
    " \n",
    "        ax.set(ylabel=\"True Values\", xlabel=\"Predicted Values\")\n",
    "        plt.show()\n",
    "        \n",
    "    def classification_report(self, y_pred_class):\n",
    "        print(metrics.classification_report(self.y_test, y_pred_class))"
   ]
  },
  {
   "cell_type": "markdown",
   "id": "75c118d7",
   "metadata": {},
   "source": [
    "### Observations:\n",
    "f1-score/recall score for class 0 is low and this could be due to class-imbalance, though the other metrics seem to be good. Let's use class-imbalance techniques using SMOTE and do the modelling"
   ]
  },
  {
   "cell_type": "markdown",
   "id": "de5ccffe",
   "metadata": {},
   "source": [
    "## Logistic Regression"
   ]
  },
  {
   "cell_type": "code",
   "execution_count": null,
   "id": "ee41427b",
   "metadata": {},
   "outputs": [],
   "source": [
    "# Build the Logistic Regression model.\n",
    "%time\n",
    "logreg_ci = LogisticRegression(random_state=42, max_iter=100,solver='liblinear', class_weight=\"balanced\")\n",
    "lr_ci_modebuilder = ModelBuilder(logreg_ci, X_train, X_test, y_train, y_test)"
   ]
  },
  {
   "cell_type": "code",
   "execution_count": null,
   "id": "f0c17c9e",
   "metadata": {},
   "outputs": [],
   "source": [
    "# Train and Predict the Test Labels\n",
    "y_pred_class  = lr_ci_modebuilder.train_model()\n",
    "lr_metrics = lr_ci_modebuilder.evaluate_model(y_pred_class)"
   ]
  },
  {
   "cell_type": "markdown",
   "id": "1cf813af",
   "metadata": {},
   "source": [
    "### Observations:\n",
    "F1 Score looks to be good, though the individual class(0) is lesser. let;s try with other alogithms if we can increase the overall F1 and for the individual classes\n",
    "\n"
   ]
  },
  {
   "cell_type": "markdown",
   "id": "7ec89dfb",
   "metadata": {},
   "source": [
    "## Naive Bayes"
   ]
  },
  {
   "cell_type": "code",
   "execution_count": null,
   "id": "27846d2b",
   "metadata": {},
   "outputs": [],
   "source": [
    "# Training the NB model and making predictions\n",
    "from sklearn.naive_bayes import MultinomialNB"
   ]
  },
  {
   "cell_type": "code",
   "execution_count": null,
   "id": "8d19b97b",
   "metadata": {},
   "outputs": [],
   "source": [
    "mnb = MultinomialNB(alpha=1.0)\n",
    "mnb_modebuilder = ModelBuilder(mnb, X_train, X_test, y_train, y_test)"
   ]
  },
  {
   "cell_type": "code",
   "execution_count": null,
   "id": "8457e578",
   "metadata": {},
   "outputs": [],
   "source": [
    "# Train and Predict the Test Labels\n",
    "y_pred_class  = mnb_modebuilder.train_model()\n",
    "nb_metrics = mnb_modebuilder.evaluate_model(y_pred_class)"
   ]
  },
  {
   "cell_type": "markdown",
   "id": "1e8a863e",
   "metadata": {},
   "source": [
    "### Decision Tree"
   ]
  },
  {
   "cell_type": "code",
   "execution_count": null,
   "id": "77162970",
   "metadata": {},
   "outputs": [],
   "source": [
    "dt = DecisionTreeClassifier(random_state=42, criterion=\"gini\", max_depth=10)"
   ]
  },
  {
   "cell_type": "code",
   "execution_count": null,
   "id": "419169e9",
   "metadata": {},
   "outputs": [],
   "source": [
    "dt_modelbuilder = ModelBuilder(dt, X_train, X_test, y_train, y_test)"
   ]
  },
  {
   "cell_type": "code",
   "execution_count": null,
   "id": "3e9e4c6f",
   "metadata": {},
   "outputs": [],
   "source": [
    "y_pred_class  = dt_modelbuilder.train_model()\n",
    "dt_metrics_cv = dt_modelbuilder.evaluate_model(y_pred_class)"
   ]
  },
  {
   "cell_type": "markdown",
   "id": "0fe4e173",
   "metadata": {},
   "source": [
    "### Random Forrest"
   ]
  },
  {
   "cell_type": "code",
   "execution_count": null,
   "id": "e6d01941",
   "metadata": {},
   "outputs": [],
   "source": [
    "rf = RandomForestClassifier(oob_score=True, random_state=42, criterion=\"gini\")"
   ]
  },
  {
   "cell_type": "code",
   "execution_count": null,
   "id": "54ebd91e",
   "metadata": {},
   "outputs": [],
   "source": [
    "params = {\n",
    "    'max_depth': [2,3,5,10],\n",
    "    'min_samples_leaf': [5,10,20,50],\n",
    "    'n_estimators': [10, 25, 50, 100]\n",
    "}"
   ]
  },
  {
   "cell_type": "code",
   "execution_count": null,
   "id": "8198ec6e",
   "metadata": {},
   "outputs": [],
   "source": [
    "grid_search = GridSearchCV(estimator=rf,\n",
    "                           param_grid=params,\n",
    "                           cv = 4,\n",
    "                           n_jobs=-1, verbose=1, scoring=\"f1\")"
   ]
  },
  {
   "cell_type": "code",
   "execution_count": null,
   "id": "0b0a6db8",
   "metadata": {},
   "outputs": [],
   "source": [
    "%time\n",
    "grid_search.fit(X_train, y_train)"
   ]
  },
  {
   "cell_type": "code",
   "execution_count": null,
   "id": "783bb89e",
   "metadata": {},
   "outputs": [],
   "source": [
    "rf_best = grid_search.best_estimator_\n",
    "rf_modebuilder = ModelBuilder(rf_best, X_train, X_test, y_train, y_test)"
   ]
  },
  {
   "cell_type": "code",
   "execution_count": null,
   "id": "c464f620",
   "metadata": {},
   "outputs": [],
   "source": [
    "# Train and Predict the Test Labels\n",
    "y_pred_class  = rf_modebuilder.train_model()\n",
    "rf_metrics = rf_modebuilder.evaluate_model(y_pred_class)"
   ]
  },
  {
   "cell_type": "markdown",
   "id": "5319794e",
   "metadata": {},
   "source": [
    "### XGBoost Classifier"
   ]
  },
  {
   "cell_type": "code",
   "execution_count": null,
   "id": "f6110bbe",
   "metadata": {},
   "outputs": [],
   "source": [
    "xgclf = xgb.XGBClassifier(learning_rate=0.15, max_depth=10, random_state=42) #based on the tuned parameters\n",
    "xg_modebuilder = ModelBuilder(xgclf, X_train, X_test, y_train, y_test)"
   ]
  },
  {
   "cell_type": "code",
   "execution_count": null,
   "id": "996d38a9",
   "metadata": {},
   "outputs": [],
   "source": [
    "# Train and Predict the Test Labels\n",
    "y_pred_class  = xg_modebuilder.train_model()\n",
    "xg_metrics = xg_modebuilder.evaluate_model(y_pred_class)"
   ]
  },
  {
   "cell_type": "markdown",
   "id": "f3d06404",
   "metadata": {},
   "source": [
    "### Model Inference¶"
   ]
  },
  {
   "cell_type": "code",
   "execution_count": null,
   "id": "6979f302",
   "metadata": {},
   "outputs": [],
   "source": [
    "xg_metrics"
   ]
  },
  {
   "cell_type": "code",
   "execution_count": null,
   "id": "46227843",
   "metadata": {},
   "outputs": [],
   "source": [
    "# Creating a table which contain all the metrics\n",
    "\n",
    "metrics_table = {'Metric': ['Accuracy','Precision','Recall',\n",
    "                       'F1Score','Auc Score'], \n",
    "        'Logistic Regression': lr_metrics,\n",
    "        'Naive Bayes': nb_metrics,\n",
    "        'Decision Tree': dt_metrics_cv,\n",
    "         'Random Forrest': rf_metrics,\n",
    "        'XG Boost': xg_metrics\n",
    "        }\n",
    "\n",
    "df_metrics = pd.DataFrame(metrics_table ,columns = ['Metric', 'Logistic Regression', 'Naive Bayes','Decision Tree','Random Forrest',\n",
    "                                                    'XG Boost'] )\n",
    "\n",
    "df_metrics"
   ]
  },
  {
   "cell_type": "markdown",
   "id": "7dcca8a6",
   "metadata": {},
   "source": [
    "### Observation:\n",
    "Comparing the above models on the metrics, XG Boost looks to be a better model, saving the XG Boost model as a pickle file for later use\n",
    "\n"
   ]
  },
  {
   "cell_type": "markdown",
   "id": "fdda5618",
   "metadata": {},
   "source": [
    "### Saving the model"
   ]
  },
  {
   "cell_type": "code",
   "execution_count": null,
   "id": "f3ee38e1",
   "metadata": {},
   "outputs": [],
   "source": [
    "save_object(xgclf, 'sentiment-based-recommendation-xg-boost-model')"
   ]
  },
  {
   "cell_type": "code",
   "execution_count": null,
   "id": "f096a57a",
   "metadata": {},
   "outputs": [],
   "source": [
    "save_object(tfidf_vectorizer, 'tfidf-vectorizer')"
   ]
  },
  {
   "cell_type": "code",
   "execution_count": null,
   "id": "bbc0ea50",
   "metadata": {},
   "outputs": [],
   "source": [
    "save_object(df_clean, 'cleaned-data')"
   ]
  },
  {
   "cell_type": "code",
   "execution_count": null,
   "id": "2620f45a",
   "metadata": {},
   "outputs": [],
   "source": []
  },
  {
   "cell_type": "markdown",
   "id": "423acf1a",
   "metadata": {},
   "source": [
    "## Recommendation System"
   ]
  },
  {
   "cell_type": "markdown",
   "id": "fa5eb3c8",
   "metadata": {},
   "source": [
    "Different Approaches to develop Recommendation System -\n",
    "\n",
    "Here we are going to try with 2 of the Colloboarative filtering techniques: - User-User Based Approach - Item-Item Based Approach"
   ]
  },
  {
   "cell_type": "code",
   "execution_count": null,
   "id": "381a01d4",
   "metadata": {},
   "outputs": [],
   "source": [
    "df_main.info()"
   ]
  },
  {
   "cell_type": "code",
   "execution_count": null,
   "id": "662bfab0",
   "metadata": {},
   "outputs": [],
   "source": [
    "df_recommendation = df_main[[\"id\", \"name\", \"reviews_rating\", \"reviews_username\"]]\n",
    "calcMissingRowCount(df_recommendation)"
   ]
  },
  {
   "cell_type": "code",
   "execution_count": null,
   "id": "15f6bb51",
   "metadata": {},
   "outputs": [],
   "source": [
    "# Splitting the train and test\n",
    "train, test = train_test_split(df_recommendation, test_size=0.25, random_state=42)"
   ]
  },
  {
   "cell_type": "code",
   "execution_count": null,
   "id": "88fbbd73",
   "metadata": {},
   "outputs": [],
   "source": [
    "print(train.shape)\n",
    "print(test.shape)"
   ]
  },
  {
   "cell_type": "code",
   "execution_count": null,
   "id": "ee97df4e",
   "metadata": {},
   "outputs": [],
   "source": [
    "product_column = \"id\"\n",
    "user_column = \"reviews_username\"\n",
    "value_column = \"reviews_rating\""
   ]
  },
  {
   "cell_type": "code",
   "execution_count": null,
   "id": "195719f7",
   "metadata": {},
   "outputs": [],
   "source": [
    "# Pivot the train ratings' dataset into matrix format in which columns are product names and the rows are user names.\n",
    "df_pivot = pd.pivot_table(train,index=user_column, columns = product_column, values = value_column).fillna(0)\n",
    "df_pivot.head(10)"
   ]
  },
  {
   "cell_type": "markdown",
   "id": "26f700fb",
   "metadata": {},
   "source": [
    "### Creating dummy train and test"
   ]
  },
  {
   "cell_type": "code",
   "execution_count": null,
   "id": "593719fe",
   "metadata": {},
   "outputs": [],
   "source": [
    "# Copy the train dataset into dummy_train\n",
    "dummy_train = train.copy()"
   ]
  },
  {
   "cell_type": "code",
   "execution_count": null,
   "id": "e6f06a43",
   "metadata": {},
   "outputs": [],
   "source": [
    "dummy_train.head()"
   ]
  },
  {
   "cell_type": "code",
   "execution_count": null,
   "id": "96d426f6",
   "metadata": {},
   "outputs": [],
   "source": [
    "# The products not rated by user is marked as 1 for prediction. \n",
    "dummy_train[value_column] = dummy_train[value_column].apply(lambda x: 0 if x>=1 else 1)"
   ]
  },
  {
   "cell_type": "code",
   "execution_count": null,
   "id": "94e2dad6",
   "metadata": {},
   "outputs": [],
   "source": [
    "# Pivot the train ratings' dataset into matrix format in which columns are product names and the rows are user names.\n",
    "dummy_train = pd.pivot_table(dummy_train,index=user_column, columns = product_column, values = value_column).fillna(1)\n",
    "dummy_train.head(10)"
   ]
  },
  {
   "cell_type": "markdown",
   "id": "dbda7a30",
   "metadata": {},
   "source": [
    "### User similarity matrix"
   ]
  },
  {
   "cell_type": "code",
   "execution_count": null,
   "id": "fdb4c61f",
   "metadata": {},
   "outputs": [],
   "source": [
    "df_pivot.index.nunique()"
   ]
  },
  {
   "cell_type": "code",
   "execution_count": null,
   "id": "345b12da",
   "metadata": {},
   "outputs": [],
   "source": [
    "# Using cosine_similarity function to compute the distance.\n",
    "user_correlation = cosine_similarity(df_pivot)\n",
    "user_correlation[np.isnan(user_correlation)] = 0\n",
    "print(user_correlation)\n",
    "print(user_correlation.shape)"
   ]
  },
  {
   "cell_type": "markdown",
   "id": "ff85249a",
   "metadata": {},
   "source": [
    "### Prediction User-User"
   ]
  },
  {
   "cell_type": "code",
   "execution_count": null,
   "id": "01bc6af7",
   "metadata": {},
   "outputs": [],
   "source": [
    "# Filtering out the user_correlation that are negatively correlated\n",
    "user_correlation[user_correlation<0]=0\n",
    "user_correlation"
   ]
  },
  {
   "cell_type": "code",
   "execution_count": null,
   "id": "60509c69",
   "metadata": {},
   "outputs": [],
   "source": [
    "user_predicted_ratings = np.dot(user_correlation, df_pivot.fillna(0))\n",
    "user_predicted_ratings"
   ]
  },
  {
   "cell_type": "code",
   "execution_count": null,
   "id": "d9ca57c0",
   "metadata": {},
   "outputs": [],
   "source": [
    "# Since we are interested in products that are not rated by the user, we multiply with dummy train to make it zero\n",
    "user_final_rating = np.multiply(user_predicted_ratings,dummy_train)\n",
    "user_final_rating.head()"
   ]
  },
  {
   "cell_type": "markdown",
   "id": "0d7dd5f2",
   "metadata": {},
   "source": [
    "### Find 20 recommendation for the user"
   ]
  },
  {
   "cell_type": "code",
   "execution_count": null,
   "id": "18abaffd",
   "metadata": {},
   "outputs": [],
   "source": [
    "user_input =  TEST_USER_ID\n",
    "print(user_input)"
   ]
  },
  {
   "cell_type": "code",
   "execution_count": null,
   "id": "b01bbd3e",
   "metadata": {},
   "outputs": [],
   "source": [
    "recommendations = user_final_rating.loc[user_input].sort_values(ascending=False)[0:20]\n",
    "recommendations"
   ]
  },
  {
   "cell_type": "code",
   "execution_count": null,
   "id": "8317fc19",
   "metadata": {},
   "outputs": [],
   "source": [
    "# Display the top 20 product id, name and similarity_score \n",
    "final_recommendations = pd.DataFrame({'product_id': recommendations.index, 'similarity_score' : recommendations})\n",
    "final_recommendations.reset_index(drop=True)\n",
    "pd.merge(final_recommendations, train, on=\"id\")[[\"id\", \"name\", \"similarity_score\"]].drop_duplicates()"
   ]
  },
  {
   "cell_type": "markdown",
   "id": "283aab99",
   "metadata": {},
   "source": [
    "### Evaluation User-User¶"
   ]
  },
  {
   "cell_type": "code",
   "execution_count": null,
   "id": "32926717",
   "metadata": {},
   "outputs": [],
   "source": [
    "# Find out the common users of test and train dataset.\n",
    "common = test[test.reviews_username.isin(train.reviews_username)]\n",
    "common.shape"
   ]
  },
  {
   "cell_type": "code",
   "execution_count": null,
   "id": "df8db44e",
   "metadata": {},
   "outputs": [],
   "source": [
    "common.head()"
   ]
  },
  {
   "cell_type": "code",
   "execution_count": null,
   "id": "b17cb837",
   "metadata": {},
   "outputs": [],
   "source": [
    "# Convert into the user-movie matrix.\n",
    "common_user_based_matrix = pd.pivot_table(common,index=user_column, columns = product_column, values = value_column)\n",
    "common_user_based_matrix.head()"
   ]
  },
  {
   "cell_type": "code",
   "execution_count": null,
   "id": "7b9080ab",
   "metadata": {},
   "outputs": [],
   "source": [
    "# Convert the user_correlation matrix into dataframe.\n",
    "user_correlation_df = pd.DataFrame(user_correlation)\n",
    "user_correlation_df.head()"
   ]
  },
  {
   "cell_type": "code",
   "execution_count": null,
   "id": "e8ee93cf",
   "metadata": {},
   "outputs": [],
   "source": [
    "user_correlation_df[user_column] = df_pivot.index\n",
    "user_correlation_df.set_index(user_column,inplace=True)\n",
    "user_correlation_df.head()"
   ]
  },
  {
   "cell_type": "code",
   "execution_count": null,
   "id": "c06825d4",
   "metadata": {},
   "outputs": [],
   "source": [
    "list_name = common.reviews_username.tolist()\n",
    "\n",
    "user_correlation_df.columns = df_pivot.index.tolist()\n",
    "user_correlation_df_1 =  user_correlation_df[user_correlation_df.index.isin(list_name)]"
   ]
  },
  {
   "cell_type": "code",
   "execution_count": null,
   "id": "4b8b81af",
   "metadata": {},
   "outputs": [],
   "source": [
    "user_correlation_df_1.shape"
   ]
  },
  {
   "cell_type": "code",
   "execution_count": null,
   "id": "b02c1714",
   "metadata": {},
   "outputs": [],
   "source": [
    "user_correlation_df_2 = user_correlation_df_1.T[user_correlation_df_1.T.index.isin(list_name)]"
   ]
  },
  {
   "cell_type": "code",
   "execution_count": null,
   "id": "6587eed6",
   "metadata": {},
   "outputs": [],
   "source": [
    "user_correlation_df_3 = user_correlation_df_2.T"
   ]
  },
  {
   "cell_type": "code",
   "execution_count": null,
   "id": "4eb8c6e8",
   "metadata": {},
   "outputs": [],
   "source": [
    "user_correlation_df_3[user_correlation_df_3<0]=0\n",
    "\n",
    "common_user_predicted_ratings = np.dot(user_correlation_df_3, common_user_based_matrix.fillna(0))\n",
    "common_user_predicted_ratings"
   ]
  },
  {
   "cell_type": "code",
   "execution_count": null,
   "id": "5b850ad2",
   "metadata": {},
   "outputs": [],
   "source": [
    "dummy_test = common.copy()\n",
    "\n",
    "dummy_test[value_column] = dummy_test[value_column].apply(lambda x: 1 if x>=1 else 0)\n",
    "dummy_test = pd.pivot_table(dummy_test,index=user_column, columns = product_column, values = value_column).fillna(0)"
   ]
  },
  {
   "cell_type": "code",
   "execution_count": null,
   "id": "d6641e39",
   "metadata": {},
   "outputs": [],
   "source": [
    "dummy_test.shape"
   ]
  },
  {
   "cell_type": "code",
   "execution_count": null,
   "id": "5cd79f37",
   "metadata": {},
   "outputs": [],
   "source": [
    "common_user_based_matrix.head()"
   ]
  },
  {
   "cell_type": "code",
   "execution_count": null,
   "id": "0622d3d2",
   "metadata": {},
   "outputs": [],
   "source": [
    "dummy_test.head()"
   ]
  },
  {
   "cell_type": "code",
   "execution_count": null,
   "id": "a9d2e04f",
   "metadata": {},
   "outputs": [],
   "source": [
    "common_user_predicted_ratings = np.multiply(common_user_predicted_ratings,dummy_test)"
   ]
  },
  {
   "cell_type": "code",
   "execution_count": null,
   "id": "5fcfd9f1",
   "metadata": {},
   "outputs": [],
   "source": [
    "common_user_predicted_ratings.head()"
   ]
  },
  {
   "cell_type": "markdown",
   "id": "f423b2fd",
   "metadata": {},
   "source": [
    "### Calculate RMSE"
   ]
  },
  {
   "cell_type": "code",
   "execution_count": null,
   "id": "47218cf2",
   "metadata": {},
   "outputs": [],
   "source": [
    "X  = common_user_predicted_ratings.copy() \n",
    "X = X[X>0]\n",
    "\n",
    "scaler = MinMaxScaler(feature_range=(1, 5))\n",
    "print(scaler.fit(X))\n",
    "y = (scaler.transform(X))\n",
    "\n",
    "print(y)"
   ]
  },
  {
   "cell_type": "code",
   "execution_count": null,
   "id": "fe4b016d",
   "metadata": {},
   "outputs": [],
   "source": [
    "common_ = pd.pivot_table(common,index=user_column, columns = product_column, values = value_column)"
   ]
  },
  {
   "cell_type": "code",
   "execution_count": null,
   "id": "99f2b32a",
   "metadata": {},
   "outputs": [],
   "source": [
    "# Finding total non-NaN value\n",
    "total_non_nan = np.count_nonzero(~np.isnan(y))"
   ]
  },
  {
   "cell_type": "code",
   "execution_count": null,
   "id": "b46e75d0",
   "metadata": {},
   "outputs": [],
   "source": [
    "rmse = (sum(sum((common_ - y )**2))/total_non_nan)**0.5\n",
    "print(rmse)"
   ]
  },
  {
   "cell_type": "code",
   "execution_count": null,
   "id": "539cd883",
   "metadata": {},
   "outputs": [],
   "source": []
  },
  {
   "cell_type": "markdown",
   "id": "fa5da30c",
   "metadata": {},
   "source": [
    "### Item Based Recommendation"
   ]
  },
  {
   "cell_type": "code",
   "execution_count": null,
   "id": "e48a1fa4",
   "metadata": {},
   "outputs": [],
   "source": [
    "df_pivot = pd.pivot_table(train,\n",
    "    index=product_column,\n",
    "    columns=user_column,\n",
    "    values=value_column\n",
    ")\n",
    "\n",
    "df_pivot.head()"
   ]
  },
  {
   "cell_type": "code",
   "execution_count": null,
   "id": "badc2677",
   "metadata": {},
   "outputs": [],
   "source": [
    "mean = np.nanmean(df_pivot, axis=1)\n",
    "df_subtracted = (df_pivot.T-mean).T"
   ]
  },
  {
   "cell_type": "code",
   "execution_count": null,
   "id": "d3f4f4ae",
   "metadata": {},
   "outputs": [],
   "source": [
    "df_subtracted.head()"
   ]
  },
  {
   "cell_type": "code",
   "execution_count": null,
   "id": "590245ad",
   "metadata": {},
   "outputs": [],
   "source": [
    "# Item Similarity Matrix\n",
    "item_correlation = 1 - pairwise_distances(df_subtracted.fillna(0), metric='cosine')\n",
    "item_correlation[np.isnan(item_correlation)] = 0\n",
    "print(item_correlation)"
   ]
  },
  {
   "cell_type": "code",
   "execution_count": null,
   "id": "9b8588f8",
   "metadata": {},
   "outputs": [],
   "source": [
    "item_correlation[item_correlation<0]=0\n",
    "item_correlation"
   ]
  },
  {
   "cell_type": "markdown",
   "id": "da2e4988",
   "metadata": {},
   "source": [
    "### Prediction - item-item"
   ]
  },
  {
   "cell_type": "code",
   "execution_count": null,
   "id": "0a9139b7",
   "metadata": {},
   "outputs": [],
   "source": [
    "item_predicted_ratings = np.dot((df_pivot.fillna(0).T),item_correlation)\n",
    "item_predicted_ratings"
   ]
  },
  {
   "cell_type": "markdown",
   "id": "52f0dd12",
   "metadata": {},
   "source": [
    "### Observation:\n",
    "Filtering the rating only for the products not rated by the user for recommendation"
   ]
  },
  {
   "cell_type": "code",
   "execution_count": null,
   "id": "328462b6",
   "metadata": {},
   "outputs": [],
   "source": [
    "item_final_rating = np.multiply(item_predicted_ratings,dummy_train)\n",
    "item_final_rating.head()"
   ]
  },
  {
   "cell_type": "markdown",
   "id": "bdce4045",
   "metadata": {},
   "source": [
    "### Finding the top 20 recommendation for the user"
   ]
  },
  {
   "cell_type": "code",
   "execution_count": null,
   "id": "b9a78bce",
   "metadata": {},
   "outputs": [],
   "source": [
    "# Take the user ID as input\n",
    "user_input =  TEST_USER_ID\n",
    "print(user_input)"
   ]
  },
  {
   "cell_type": "code",
   "execution_count": null,
   "id": "76de35f9",
   "metadata": {},
   "outputs": [],
   "source": [
    "# Recommending the Top 5 products to the user.\n",
    "item_recommendations = item_final_rating.loc[user_input].sort_values(ascending=False)[0:20]\n",
    "item_recommendations"
   ]
  },
  {
   "cell_type": "code",
   "execution_count": null,
   "id": "94c5a47e",
   "metadata": {},
   "outputs": [],
   "source": [
    "item_final_recommendations = pd.DataFrame({'product_id': item_recommendations.index, 'similarity_score' : item_recommendations})\n",
    "item_final_recommendations.reset_index(drop=True)\n",
    "#final_recommendations.drop(['id'], axis=1)\n",
    "pd.merge(item_final_recommendations, train, on=\"id\")[[\"id\", \"name\", \"similarity_score\"]].drop_duplicates()"
   ]
  },
  {
   "cell_type": "markdown",
   "id": "f998b835",
   "metadata": {},
   "source": [
    "### Evaluation - item-item"
   ]
  },
  {
   "cell_type": "code",
   "execution_count": null,
   "id": "0b90ca77",
   "metadata": {},
   "outputs": [],
   "source": [
    "common =  test[test.id.isin(train.id)]\n",
    "common.shape"
   ]
  },
  {
   "cell_type": "code",
   "execution_count": null,
   "id": "c9cab287",
   "metadata": {},
   "outputs": [],
   "source": [
    "common.head(4)"
   ]
  },
  {
   "cell_type": "code",
   "execution_count": null,
   "id": "a5afd818",
   "metadata": {},
   "outputs": [],
   "source": [
    "common_item_based_matrix = common.pivot_table(index=product_column, columns=user_column, values=value_column)"
   ]
  },
  {
   "cell_type": "code",
   "execution_count": null,
   "id": "b31af140",
   "metadata": {},
   "outputs": [],
   "source": [
    "item_correlation_df = pd.DataFrame(item_correlation)\n",
    "item_correlation_df.head(1)"
   ]
  },
  {
   "cell_type": "code",
   "execution_count": null,
   "id": "f6c08a57",
   "metadata": {},
   "outputs": [],
   "source": [
    "item_correlation_df[product_column] = df_subtracted.index\n",
    "item_correlation_df.set_index(product_column,inplace=True)\n",
    "item_correlation_df.head()"
   ]
  },
  {
   "cell_type": "code",
   "execution_count": null,
   "id": "208b1a23",
   "metadata": {},
   "outputs": [],
   "source": [
    "list_name = common.id.tolist()"
   ]
  },
  {
   "cell_type": "code",
   "execution_count": null,
   "id": "e82ae40b",
   "metadata": {},
   "outputs": [],
   "source": [
    "item_correlation_df.columns = df_subtracted.index.tolist()\n",
    "\n",
    "item_correlation_df_1 =  item_correlation_df[item_correlation_df.index.isin(list_name)]"
   ]
  },
  {
   "cell_type": "code",
   "execution_count": null,
   "id": "2c20572d",
   "metadata": {},
   "outputs": [],
   "source": [
    "item_correlation_df_2 = item_correlation_df_1.T[item_correlation_df_1.T.index.isin(list_name)]\n",
    "\n",
    "item_correlation_df_3 = item_correlation_df_2.T"
   ]
  },
  {
   "cell_type": "code",
   "execution_count": null,
   "id": "0aa528c9",
   "metadata": {},
   "outputs": [],
   "source": [
    "df_subtracted"
   ]
  },
  {
   "cell_type": "code",
   "execution_count": null,
   "id": "92e0104d",
   "metadata": {},
   "outputs": [],
   "source": [
    "item_correlation_df_3[item_correlation_df_3<0]=0\n",
    "\n",
    "common_item_predicted_ratings = np.dot(item_correlation_df_3, common_item_based_matrix.fillna(0))\n",
    "common_item_predicted_ratings"
   ]
  },
  {
   "cell_type": "code",
   "execution_count": null,
   "id": "b3cf3b08",
   "metadata": {},
   "outputs": [],
   "source": [
    "dummy_test = common.copy()\n",
    "dummy_test[value_column] = dummy_test[value_column].apply(lambda x: 1 if x>=1 else 0)\n",
    "dummy_test = pd.pivot_table(dummy_test, index=product_column, columns=user_column, values=value_column).fillna(0)\n",
    "common_item_predicted_ratings = np.multiply(common_item_predicted_ratings,dummy_test)"
   ]
  },
  {
   "cell_type": "code",
   "execution_count": null,
   "id": "78f18fc6",
   "metadata": {},
   "outputs": [],
   "source": [
    "common_ = pd.pivot_table(common,index=product_column, columns=user_column, values=value_column)"
   ]
  },
  {
   "cell_type": "code",
   "execution_count": null,
   "id": "a0ba3f17",
   "metadata": {},
   "outputs": [],
   "source": [
    "X  = common_item_predicted_ratings.copy() \n",
    "X = X[X>0]\n",
    "\n",
    "scaler = MinMaxScaler(feature_range=(1, 5))\n",
    "print(scaler.fit(X))\n",
    "y = (scaler.transform(X))\n",
    "\n",
    "print(y)"
   ]
  },
  {
   "cell_type": "code",
   "execution_count": null,
   "id": "c89c045b",
   "metadata": {},
   "outputs": [],
   "source": [
    "# Finding total non-NaN value\n",
    "total_non_nan = np.count_nonzero(~np.isnan(y))"
   ]
  },
  {
   "cell_type": "code",
   "execution_count": null,
   "id": "31eb09dc",
   "metadata": {},
   "outputs": [],
   "source": [
    "rmse = (sum(sum((common_ - y )**2))/total_non_nan)**0.5\n",
    "print(rmse)"
   ]
  },
  {
   "cell_type": "markdown",
   "id": "1a8bfb32",
   "metadata": {},
   "source": [
    "### Observations:\n",
    "On comparing the RMSE values of User Based Recommender and Item Based Recommender, User based recommendation model seems to be better in this case, as it has a lower RMSE value (~2)"
   ]
  },
  {
   "cell_type": "code",
   "execution_count": null,
   "id": "50d03168",
   "metadata": {},
   "outputs": [],
   "source": [
    "# Saving the correlation matrix of user based recommender \n",
    "save_object(user_final_rating, \"user_final_rating\")"
   ]
  },
  {
   "cell_type": "markdown",
   "id": "889306b7",
   "metadata": {},
   "source": [
    "## Top Product Recommendations - Recommendation of 20 products and filtering by sentiment model"
   ]
  },
  {
   "cell_type": "markdown",
   "id": "6f323db2",
   "metadata": {},
   "source": [
    "Get the top 20 product recommendations using the recommender system and get the top 5 using the sentiment ML model.. the similar method would be used in model.py"
   ]
  },
  {
   "cell_type": "code",
   "execution_count": null,
   "id": "e98e28b2",
   "metadata": {},
   "outputs": [],
   "source": [
    "# Testing the above fuction using one of the users that's trained on.\n",
    "get_sentiment_recommendations(TEST_USER_ID)"
   ]
  },
  {
   "cell_type": "code",
   "execution_count": null,
   "id": "45e75cf4",
   "metadata": {},
   "outputs": [],
   "source": [
    "# Get the top 5\n",
    "get_sentiment_recommendations(TEST_USER_ID)[:5]"
   ]
  },
  {
   "cell_type": "code",
   "execution_count": null,
   "id": "48dbf7be",
   "metadata": {},
   "outputs": [],
   "source": [
    "# Testing the above fuction on the user that doesn't exists or a new user\n",
    "get_sentiment_recommendations(\"test456\")"
   ]
  },
  {
   "cell_type": "code",
   "execution_count": null,
   "id": "397f0f4c",
   "metadata": {},
   "outputs": [],
   "source": [
    "X_sample = tfidf_vectorizer.transform([\"Awesome product, will recommend\"])\n",
    "y_pred_sample = xgclf.predict(X_sample)\n",
    "y_pred_sample"
   ]
  },
  {
   "cell_type": "code",
   "execution_count": null,
   "id": "93cf463c",
   "metadata": {},
   "outputs": [],
   "source": [
    "print(y_pred_sample)"
   ]
  },
  {
   "cell_type": "code",
   "execution_count": null,
   "id": "1ba8ac78",
   "metadata": {},
   "outputs": [],
   "source": [
    "X_sample = tfidf_vectorizer.transform([\"worst product, quality is poor\"])\n",
    "y_pred_sample = xgclf.predict(X_sample)\n",
    "y_pred_sample"
   ]
  },
  {
   "cell_type": "markdown",
   "id": "5fae7672",
   "metadata": {},
   "source": [
    "## Conclusion"
   ]
  },
  {
   "cell_type": "markdown",
   "id": "74cd6471",
   "metadata": {},
   "source": [
    "On comparing the RMSE values of User Based Recommender and Item Based Recommender, User based recommendation model seems to be better in this case, as it has a lower RMSE value (~2)"
   ]
  }
 ],
 "metadata": {
  "kernelspec": {
   "display_name": "Python 3 (ipykernel)",
   "language": "python",
   "name": "python3"
  },
  "language_info": {
   "codemirror_mode": {
    "name": "ipython",
    "version": 3
   },
   "file_extension": ".py",
   "mimetype": "text/x-python",
   "name": "python",
   "nbconvert_exporter": "python",
   "pygments_lexer": "ipython3",
   "version": "3.8.13"
  }
 },
 "nbformat": 4,
 "nbformat_minor": 5
}
